{
  "nbformat": 4,
  "nbformat_minor": 0,
  "metadata": {
    "colab": {
      "name": "YourName_HW3-1.ipynb",
      "provenance": [],
      "collapsed_sections": [],
      "toc_visible": true
    },
    "kernelspec": {
      "name": "python3",
      "display_name": "Python 3"
    },
    "language_info": {
      "name": "python"
    }
  },
  "cells": [
    {
      "cell_type": "markdown",
      "metadata": {
        "id": "PILI65krKXdi"
      },
      "source": [
        "# HW3:  Introduction to Machine Learning and Project Proposal\n",
        "\n",
        "This problem set will walk you through the basics of machine learning, including some of the development practices, the most popular libraries, and concepts in machine learning.\n",
        "\n",
        "We'll start with the most classic dataset of them all:  R.A. Fisher's Iris dataset.  Fisher is most known for popularizing the standard hypothesis-testing approach to statistics, and this dataset comes from a 1936 paper.  It is a very easy dataset to learn because of the 3 types of flowers, 1 is linearly separable from the others in the data.\n",
        "\n",
        "It's one of the datasets in the general-purpose \"scikit-learn,\" or sklearn, module, which offers many tools and preprogrammed algorithms for machine learning."
      ]
    },
    {
      "cell_type": "code",
      "metadata": {
        "id": "4_BUXmVyJF3s"
      },
      "source": [
        "from sklearn.datasets import load_iris\n",
        "from sklearn.model_selection import train_test_split\n",
        "import numpy as np\n",
        "\n",
        "iris = load_iris()"
      ],
      "execution_count": 27,
      "outputs": []
    },
    {
      "cell_type": "markdown",
      "metadata": {
        "id": "GxlzxZjOLnrV"
      },
      "source": [
        "Modules vary in how they prepackage their datasets, but scikit-learn's built-in datasets come in the form of dictionaries where you can look up the feature names, feature values, target values (classifications), and possibly other information."
      ]
    },
    {
      "cell_type": "code",
      "metadata": {
        "id": "3oN0pGnIJaVc",
        "colab": {
          "base_uri": "https://localhost:8080/"
        },
        "outputId": "4670e984-817e-40bc-c3fa-4c468b193ae9"
      },
      "source": [
        "iris[\"feature_names\"]"
      ],
      "execution_count": 28,
      "outputs": [
        {
          "output_type": "execute_result",
          "data": {
            "text/plain": [
              "['sepal length (cm)',\n",
              " 'sepal width (cm)',\n",
              " 'petal length (cm)',\n",
              " 'petal width (cm)']"
            ]
          },
          "metadata": {
            "tags": []
          },
          "execution_count": 28
        }
      ]
    },
    {
      "cell_type": "code",
      "metadata": {
        "id": "DD7Cf_hhJmAH"
      },
      "source": [
        "iris"
      ],
      "execution_count": null,
      "outputs": []
    },
    {
      "cell_type": "markdown",
      "metadata": {
        "id": "1tB50vYQMN7q"
      },
      "source": [
        "So, we're classifying flowers by some numerical features - the petal and sepal (green part under the petal) dimensions.  The proper labels have numerical values that map to the strings in target_names."
      ]
    },
    {
      "cell_type": "markdown",
      "metadata": {
        "id": "MmavpKHzNFys"
      },
      "source": [
        "Recall that we want to have separate training, validation, and test data.  Validation is often done with \"cross-validation,\" where slices of the training data are withheld as validation data.  But we still need to separate out some test data."
      ]
    },
    {
      "cell_type": "markdown",
      "metadata": {
        "id": "s05A-NqIN0mR"
      },
      "source": [
        "**1) It seems convenient to withhold the end of the feature and target arrays as test data.  Why is this a bad idea in general?  (For a hint, look closer at data['target']).**\n",
        "\n",
        "Sometimes what might happen is that the dataset may be charactorized in order, therefore if you would take the data points from the beginning, it might overfit to those particular classes and might not work with classes that come up later, like how 2s might be left out in this case. It is always better to \"shuffle\" the data to ensure even distribution.\n",
        "\n"
      ]
    },
    {
      "cell_type": "markdown",
      "metadata": {
        "id": "tCQ4u0dbOlcq"
      },
      "source": [
        "Scikit-learn comes with a function train_test_split() that automatically randomly partitions a set of features and a set of labels into train and test datasets.  It doesn't automatically create validation data, but that's because the validation strategy is often cross-validation, which iteratively withholds portions of the training data as validation data."
      ]
    },
    {
      "cell_type": "code",
      "metadata": {
        "id": "T0jhbJC5Jw5z"
      },
      "source": [
        "# random_state sets the random seed - this makes it easier to have common ground when talking about assignments\n",
        "features_train, features_test, labels_train, labels_test = train_test_split(iris['data'], iris['target'], test_size=0.1, random_state=4100)"
      ],
      "execution_count": 30,
      "outputs": []
    },
    {
      "cell_type": "markdown",
      "metadata": {
        "id": "pf5FkCCwPIDR"
      },
      "source": [
        "Using scikit-learn, the process of machine learning can be somewhat high-level, focused on choice of method and parameters instead of re-implementing the algorithm.  Here's how to train and perform cross-validation on an entropy-based decision tree learner for the Iris dataset.  The cross-validation here divides the training data into fifths, and trains 5 learners, each trained on 4/5 of the data and validated on a different 1/5."
      ]
    },
    {
      "cell_type": "code",
      "metadata": {
        "id": "gcMN0BgxLU1i",
        "colab": {
          "base_uri": "https://localhost:8080/"
        },
        "outputId": "5e085438-411a-4b95-a4b4-b7ece57d9b14"
      },
      "source": [
        "from sklearn.tree import DecisionTreeClassifier\n",
        "from sklearn.model_selection import cross_val_score\n",
        "\n",
        "dtree = DecisionTreeClassifier(criterion=\"entropy\", random_state=4100)\n",
        "cross_val_score(dtree, features_train, labels_train)"
      ],
      "execution_count": 31,
      "outputs": [
        {
          "output_type": "execute_result",
          "data": {
            "text/plain": [
              "array([0.92592593, 0.92592593, 0.92592593, 1.        , 1.        ])"
            ]
          },
          "metadata": {
            "tags": []
          },
          "execution_count": 31
        }
      ]
    },
    {
      "cell_type": "markdown",
      "metadata": {
        "id": "LbtFZ5oPP8Yv"
      },
      "source": [
        "At this point, we'd iterate on changing parameters to the learner until we're satisfied.  The options in scikit-learn for decision trees aren't as good as they could be - for example, there's no option to prune by statistical significance - but there are still several we could manipulate in the hopes of improving validation performance."
      ]
    },
    {
      "cell_type": "markdown",
      "metadata": {
        "id": "Vn_9_kgAQa0z"
      },
      "source": [
        "**2) Why should we not touch the test data while iterating on the parameters or architecture of a model?**\n",
        "\n",
        "You should not try modifying parameters after touching the test set, which makes your ML algo overfit to the test itself, making it rather useless in real world. The learner would not be able to generalize itself, making it severely less robust. Make sure to only evaluate with the test set after making all the modifcations possible.\n",
        "\n"
      ]
    },
    {
      "cell_type": "markdown",
      "metadata": {
        "id": "H-idrB_HQ0zk"
      },
      "source": [
        "Let's suppose we're happy with these parameters for the decision tree.  We can then fit a model to all the training data, then evaluate it on the test data."
      ]
    },
    {
      "cell_type": "code",
      "metadata": {
        "id": "vYyFBiRZMJh4",
        "colab": {
          "base_uri": "https://localhost:8080/"
        },
        "outputId": "2b709359-997e-41d4-bba0-170fcbc04697"
      },
      "source": [
        "dtree.fit(features_train, labels_train)"
      ],
      "execution_count": 32,
      "outputs": [
        {
          "output_type": "execute_result",
          "data": {
            "text/plain": [
              "DecisionTreeClassifier(ccp_alpha=0.0, class_weight=None, criterion='entropy',\n",
              "                       max_depth=None, max_features=None, max_leaf_nodes=None,\n",
              "                       min_impurity_decrease=0.0, min_impurity_split=None,\n",
              "                       min_samples_leaf=1, min_samples_split=2,\n",
              "                       min_weight_fraction_leaf=0.0, presort='deprecated',\n",
              "                       random_state=4100, splitter='best')"
            ]
          },
          "metadata": {
            "tags": []
          },
          "execution_count": 32
        }
      ]
    },
    {
      "cell_type": "code",
      "metadata": {
        "id": "8hTR-O3aN0aX",
        "colab": {
          "base_uri": "https://localhost:8080/"
        },
        "outputId": "566804f9-77ca-42b0-a81d-778c613a6e44"
      },
      "source": [
        "dtree.score(features_test, labels_test) # Find accuracy on the test data"
      ],
      "execution_count": 33,
      "outputs": [
        {
          "output_type": "execute_result",
          "data": {
            "text/plain": [
              "0.9333333333333333"
            ]
          },
          "metadata": {
            "tags": []
          },
          "execution_count": 33
        }
      ]
    },
    {
      "cell_type": "markdown",
      "metadata": {
        "id": "aTKoIholRUkR"
      },
      "source": [
        "Incidentally, we can now take advantage of the main strength of the decision tree, its inspectability, and see a representation of its decision process."
      ]
    },
    {
      "cell_type": "code",
      "metadata": {
        "id": "3VaE7gUtPCBf",
        "colab": {
          "base_uri": "https://localhost:8080/",
          "height": 765
        },
        "outputId": "3f0cb0ae-bee0-4061-d85b-36fc8bd3f695"
      },
      "source": [
        "from sklearn import tree\n",
        "import matplotlib.pyplot as plt\n",
        "\n",
        "plt.figure(figsize=(12,8))\n",
        "tree.plot_tree(dtree, feature_names = iris[\"feature_names\"], class_names = iris[\"target_names\"])"
      ],
      "execution_count": 34,
      "outputs": [
        {
          "output_type": "execute_result",
          "data": {
            "text/plain": [
              "[Text(251.10000000000002, 407.7, 'petal length (cm) <= 2.45\\nentropy = 1.584\\nsamples = 135\\nvalue = [46, 43, 46]\\nclass = setosa'),\n",
              " Text(167.4, 353.34000000000003, 'entropy = 0.0\\nsamples = 46\\nvalue = [46, 0, 0]\\nclass = setosa'),\n",
              " Text(334.8, 353.34000000000003, 'petal length (cm) <= 4.75\\nentropy = 0.999\\nsamples = 89\\nvalue = [0, 43, 46]\\nclass = virginica'),\n",
              " Text(167.4, 298.98, 'petal width (cm) <= 1.65\\nentropy = 0.169\\nsamples = 40\\nvalue = [0, 39, 1]\\nclass = versicolor'),\n",
              " Text(83.7, 244.62, 'entropy = 0.0\\nsamples = 39\\nvalue = [0, 39, 0]\\nclass = versicolor'),\n",
              " Text(251.10000000000002, 244.62, 'entropy = 0.0\\nsamples = 1\\nvalue = [0, 0, 1]\\nclass = virginica'),\n",
              " Text(502.20000000000005, 298.98, 'petal length (cm) <= 5.05\\nentropy = 0.408\\nsamples = 49\\nvalue = [0, 4, 45]\\nclass = virginica'),\n",
              " Text(418.5, 244.62, 'sepal length (cm) <= 6.5\\nentropy = 0.946\\nsamples = 11\\nvalue = [0, 4, 7]\\nclass = virginica'),\n",
              " Text(334.8, 190.26, 'sepal width (cm) <= 3.1\\nentropy = 0.764\\nsamples = 9\\nvalue = [0, 2, 7]\\nclass = virginica'),\n",
              " Text(251.10000000000002, 135.89999999999998, 'petal width (cm) <= 1.65\\nentropy = 0.544\\nsamples = 8\\nvalue = [0, 1, 7]\\nclass = virginica'),\n",
              " Text(167.4, 81.54000000000002, 'sepal width (cm) <= 2.35\\nentropy = 1.0\\nsamples = 2\\nvalue = [0, 1, 1]\\nclass = versicolor'),\n",
              " Text(83.7, 27.180000000000007, 'entropy = 0.0\\nsamples = 1\\nvalue = [0, 0, 1]\\nclass = virginica'),\n",
              " Text(251.10000000000002, 27.180000000000007, 'entropy = 0.0\\nsamples = 1\\nvalue = [0, 1, 0]\\nclass = versicolor'),\n",
              " Text(334.8, 81.54000000000002, 'entropy = 0.0\\nsamples = 6\\nvalue = [0, 0, 6]\\nclass = virginica'),\n",
              " Text(418.5, 135.89999999999998, 'entropy = 0.0\\nsamples = 1\\nvalue = [0, 1, 0]\\nclass = versicolor'),\n",
              " Text(502.20000000000005, 190.26, 'entropy = 0.0\\nsamples = 2\\nvalue = [0, 2, 0]\\nclass = versicolor'),\n",
              " Text(585.9, 244.62, 'entropy = 0.0\\nsamples = 38\\nvalue = [0, 0, 38]\\nclass = virginica')]"
            ]
          },
          "metadata": {
            "tags": []
          },
          "execution_count": 34
        },
        {
          "output_type": "display_data",
          "data": {
            "image/png": "[encoded data removed]",
            "text/plain": [
              "<Figure size 864x576 with 1 Axes>"
            ]
          },
          "metadata": {
            "tags": [],
            "needs_background": "light"
          }
        }
      ]
    },
    {
      "cell_type": "markdown",
      "metadata": {
        "id": "6pGfNweSRksL"
      },
      "source": [
        "**3) Notice the consistent value for entropy at the leaves of this tree.  Is this guaranteed to happen, for any dataset, if the tree is not pruning (this one is not)?  If yes, explain why.  If no, give a situation in which a leaf may have nonzero entropy.**\n",
        "\n",
        "Decision trees without any further constraint on depth or entropy would keep branching until it reaches minimum possible entropy, which is 0. The classifier \n",
        "Decision trees without pruning tend to does this by overfitting and asking very specific questions, to make sure there is no \"NO\" in a YES or vice versa. This could be harmful because as with all overfitting, it wouldn't be generalized enough for diverse examples in the real world. It is better to instead prune using chi-square, max depth or anything to reach a tree after which classifying is meaningless, or wouldn't contribute to the tree."
      ]
    },
    {
      "cell_type": "markdown",
      "metadata": {
        "id": "fsUPWp8mRGKA"
      },
      "source": [
        "The other machine learning classes in scikit-learn have very similar interfaces; it was designed to make switching between methods relatively easy.  While it might seem that each class in scikit-learn has very many parameters to its constructor, the defaults are often a pretty good starting place unless you have a reason to think they should be changed.\n",
        "\n",
        "**4) Perform cross-validation on the Iris data with a k-nearest-neighbors classifier (KNeighborsClassifier), following the example above.  If you need it, the KNeighborsClassifier documentation is [here](https://scikit-learn.org/stable/modules/generated/sklearn.neighbors.KNeighborsClassifier.html).  You shouldn't touch the test data yet.**"
      ]
    },
    {
      "cell_type": "code",
      "metadata": {
        "id": "3RqsxcMMOzaH",
        "colab": {
          "base_uri": "https://localhost:8080/"
        },
        "outputId": "8e3acab0-5ffe-4ae5-cb60-9b37875f3044"
      },
      "source": [
        "# TODO\n",
        "from sklearn.neighbors import KNeighborsClassifier\n",
        "kNN = KNeighborsClassifier()\n",
        "cross_val_score(kNN, features_train, labels_train)\n"
      ],
      "execution_count": 75,
      "outputs": [
        {
          "output_type": "execute_result",
          "data": {
            "text/plain": [
              "array([0.62135922, 0.66341463, 0.63902439, 0.66829268, 0.5902439 ])"
            ]
          },
          "metadata": {
            "tags": []
          },
          "execution_count": 75
        }
      ]
    },
    {
      "cell_type": "markdown",
      "metadata": {
        "id": "IQ9tejztSIZO"
      },
      "source": [
        "There's an obvious parameter to play with for k nearest neighbors:  what's k?  Nothing about the iris dataset intuitively suggests an answer, so we just need to search for a good value.\n",
        "\n",
        "**5) Iterate over values of k from 1 through 9 and find the value for k that gives the best mean accuracy during cross-validation.  Then evaluate on the test set.**"
      ]
    },
    {
      "cell_type": "code",
      "metadata": {
        "id": "LjSjuEZtPodY",
        "colab": {
          "base_uri": "https://localhost:8080/"
        },
        "outputId": "c913b65a-deb3-433b-b5ce-6ff4c4f05560"
      },
      "source": [
        "# TODO\n",
        "from statistics import mean\n",
        "best_k = 0\n",
        "best_avg = 0\n",
        "for k in range(1,10):\n",
        "  kNN = KNeighborsClassifier(k)\n",
        "  avg = mean(cross_val_score(kNN, features_train, labels_train))\n",
        "  if best_avg < avg:\n",
        "    best_avg = avg\n",
        "    best_k = k\n",
        "print(best_k)\n",
        "kNN = KNeighborsClassifier(best_k)\n",
        "kNN.fit(features_train, labels_train)\n",
        "print(kNN.score(features_test, labels_test))"
      ],
      "execution_count": 39,
      "outputs": [
        {
          "output_type": "stream",
          "text": [
            "6\n",
            "0.9333333333333333\n"
          ],
          "name": "stdout"
        }
      ]
    },
    {
      "cell_type": "markdown",
      "metadata": {
        "id": "qSxTW0BaSsMl"
      },
      "source": [
        "The Iris dataset is a little easy if even a simple method like k-nearest-neighbors can score so highly.  We'll next look at learning to classify a face database, eventually trying a convolutional neural network.  lfw_people is a slightly dated dataset of faces of then-famous people."
      ]
    },
    {
      "cell_type": "code",
      "metadata": {
        "id": "ruuBLc6pRdP2",
        "colab": {
          "base_uri": "https://localhost:8080/"
        },
        "outputId": "bb7c0aee-8c11-47f9-9e1c-073784c27e25"
      },
      "source": [
        "from sklearn.datasets import fetch_lfw_people\n",
        "\n",
        "# Whole process for new dataset, new method - decision forests\n",
        "\n",
        "faces = fetch_lfw_people(min_faces_per_person = 100)"
      ],
      "execution_count": 41,
      "outputs": [
        {
          "output_type": "stream",
          "text": [
            "Downloading LFW metadata: https://ndownloader.figshare.com/files/5976012\n",
            "Downloading LFW metadata: https://ndownloader.figshare.com/files/5976009\n",
            "Downloading LFW metadata: https://ndownloader.figshare.com/files/5976006\n",
            "Downloading LFW data (~200MB): https://ndownloader.figshare.com/files/5976015\n"
          ],
          "name": "stderr"
        }
      ]
    },
    {
      "cell_type": "markdown",
      "metadata": {
        "id": "MfY6dY24TAO7"
      },
      "source": [
        "This dataset comes in two formats for the features.  faces[\"data\"] represents the images as vectors of pixel brightnesses, convenient for the old-school assumption that the learner didn't need adjacency information and the learner would just figure it out.  faces[\"images\"] represents the images as 2D arrays, more convenient for convolutional neural networks and any other methods that might care about pixel adjacency."
      ]
    },
    {
      "cell_type": "code",
      "metadata": {
        "id": "QjwEDD59TQs4"
      },
      "source": [
        "faces"
      ],
      "execution_count": null,
      "outputs": []
    },
    {
      "cell_type": "code",
      "metadata": {
        "id": "oC9basgaTsoS",
        "colab": {
          "base_uri": "https://localhost:8080/",
          "height": 286
        },
        "outputId": "dddf3564-b36a-4b43-f532-d63909f6cea5"
      },
      "source": [
        "import matplotlib.pyplot as plt\n",
        "\n",
        "plt.imshow(faces.images[5], cmap=\"gray\")"
      ],
      "execution_count": 43,
      "outputs": [
        {
          "output_type": "execute_result",
          "data": {
            "text/plain": [
              "<matplotlib.image.AxesImage at 0x7f0290321490>"
            ]
          },
          "metadata": {
            "tags": []
          },
          "execution_count": 43
        },
        {
          "output_type": "display_data",
          "data": {
            "image/png": "[encoded data removed]",
            "text/plain": [
              "<Figure size 432x288 with 1 Axes>"
            ]
          },
          "metadata": {
            "tags": [],
            "needs_background": "light"
          }
        }
      ]
    },
    {
      "cell_type": "markdown",
      "metadata": {
        "id": "w-JVjONyUMtK"
      },
      "source": [
        "A sort of minimal baseline performance would be to ignore the 2D representation and train k-nearest-neighbors on the vector representation.  This obviously is not going to be the best, but it can be useful to establish baselines with simple methods, so you know that when your deep neural network is performing worse than a knn classifier that you must have a bug or a bad design decision.\n",
        "\n",
        "**6) Create a train/test split with random_state=4100 on the faces[\"data\"] features and faces[\"target\"] labels.  Then search for a good value of k for your knn classifier in the range [1,9], as you did above, and report your best test performance.**"
      ]
    },
    {
      "cell_type": "code",
      "metadata": {
        "id": "Abi8M2n3WbVO"
      },
      "source": [
        "#TODO: train-test split\n",
        "features_train, features_test, labels_train, labels_test = train_test_split(faces['data'], faces['target'], test_size=0.1, random_state=4100)"
      ],
      "execution_count": 45,
      "outputs": []
    },
    {
      "cell_type": "code",
      "metadata": {
        "id": "lqOH4TmwWwgO",
        "colab": {
          "base_uri": "https://localhost:8080/"
        },
        "outputId": "91df3631-7ce3-4626-9bb6-9fe9cffc6d55"
      },
      "source": [
        "#TODO: parameter search for k\n",
        "best_k = 0\n",
        "best_avg = 0\n",
        "for k in range(1,10):\n",
        "  kNN = KNeighborsClassifier(k)\n",
        "  avg = mean(cross_val_score(kNN, features_train, labels_train))\n",
        "  if best_avg < avg:\n",
        "    best_avg = avg\n",
        "    best_k = k\n",
        "print(best_k)\n"
      ],
      "execution_count": 47,
      "outputs": [
        {
          "output_type": "stream",
          "text": [
            "8\n"
          ],
          "name": "stdout"
        }
      ]
    },
    {
      "cell_type": "code",
      "metadata": {
        "id": "rCW3iYZ4Xc-A",
        "colab": {
          "base_uri": "https://localhost:8080/"
        },
        "outputId": "76522110-eac9-408b-b124-3245a00633a0"
      },
      "source": [
        "#TODO: train and evaluate with best k\n",
        "kNN = KNeighborsClassifier(best_k)\n",
        "kNN.fit(features_train, labels_train)\n",
        "print(kNN.score(features_test, labels_test))"
      ],
      "execution_count": 48,
      "outputs": [
        {
          "output_type": "stream",
          "text": [
            "0.6140350877192983\n"
          ],
          "name": "stdout"
        }
      ]
    },
    {
      "cell_type": "markdown",
      "metadata": {
        "id": "6VzFhTwoWuf7"
      },
      "source": [
        "**7) How many dimensions does the feature space here have?  Does this number suggest k-NN will probably do well or somewhat poorly, and why?  (Note that the .shape field can tell you the image dimensions.)**\n",
        "\n"
      ]
    },
    {
      "cell_type": "code",
      "metadata": {
        "id": "PRCrr2K2XIM6",
        "colab": {
          "base_uri": "https://localhost:8080/"
        },
        "outputId": "dfcb53ab-37a5-436f-8de8-ddf046e36bb2"
      },
      "source": [
        "# TODO?: maybe writing code will help (optional)\n",
        "faces.data[4].shape"
      ],
      "execution_count": 54,
      "outputs": [
        {
          "output_type": "execute_result",
          "data": {
            "text/plain": [
              "(2914,)"
            ]
          },
          "metadata": {
            "tags": []
          },
          "execution_count": 54
        }
      ]
    },
    {
      "cell_type": "markdown",
      "metadata": {
        "id": "iC0yZBw9XcvA"
      },
      "source": [
        "It seems to have 2914 dimensions and with increasing number of dimensions, the quality of the kNN learner will drop as the clustering of data points isn't as compact in higher number of dimensions. The magnitude of distance between \"nearest\" neighbors ceases to be near with higher dimensions"
      ]
    },
    {
      "cell_type": "markdown",
      "metadata": {
        "id": "aM15IFbyVy_j"
      },
      "source": [
        "Of course, k-nearest-neighbors is a bit of a straw man.  We could try a slightly stronger method:  a random forest (sklearn.ensemble.RandomForestClassifier).\n",
        "\n",
        "**8) Cross-validate a RandomForestClassifier on the data, using the same train/test split (and same random seed, 4100).   You don't need to evaluate on the test data.**"
      ]
    },
    {
      "cell_type": "code",
      "metadata": {
        "id": "W5Nhcp_tY01D",
        "colab": {
          "base_uri": "https://localhost:8080/"
        },
        "outputId": "eb05462e-0cec-4841-eee8-292ad3256369"
      },
      "source": [
        "# TODO - same experiment with random forest\n",
        "from sklearn.ensemble import RandomForestClassifier\n",
        "cross_val_score(RandomForestClassifier(), features_train, labels_train)"
      ],
      "execution_count": 57,
      "outputs": [
        {
          "output_type": "execute_result",
          "data": {
            "text/plain": [
              "array([0.66504854, 0.71707317, 0.67804878, 0.67804878, 0.65853659])"
            ]
          },
          "metadata": {
            "tags": []
          },
          "execution_count": 57
        }
      ]
    },
    {
      "cell_type": "markdown",
      "metadata": {
        "id": "otHq9Rg2ULE-"
      },
      "source": [
        "Note that we could access the feature_importances_ field of the random forest if we thought the features were meaningful and we wanted to know which were most influential to the decision - but they're pixels, so we'll pass."
      ]
    },
    {
      "cell_type": "markdown",
      "metadata": {
        "id": "PLgrMnwGXy8I"
      },
      "source": [
        "Okay, it's time to get serious -- it's well-understood that a convolutional neural network can do much better on this task, owing to its hierarchical feature processing, use of adjacency information, and ability to train filters that are less sensitive to the exact position of a feature in the image.\n",
        "\n",
        "Neural networks have a lot of architectural decisions to make, but we can make progress by looking at a similar network, then modifying it based on how well the network does on the new task.  (Some projects literally take a *trained* network's early layers and build layers on top of those -- this is called transfer learning -- but we won't go that far here.)\n",
        "\n",
        "**9) Adapt the code at https://keras.io/examples/vision/mnist_convnet/ (which was originally for digit recognition) so that you run the code on our face dataset instead of the MNIST digits dataset.  (Note that the image dimensions are different, and so is the number of classes.  Don't skip the expand_dims calls, as they actually fix the dimensions of the input to be what the network expects.)  You must also add a comment attributing the code for full credit, since you should get in this habit.**"
      ]
    },
    {
      "cell_type": "code",
      "metadata": {
        "id": "l-0lxE7FY3ls",
        "colab": {
          "base_uri": "https://localhost:8080/"
        },
        "outputId": "5684f901-8a25-4851-906e-fc90a01438cf"
      },
      "source": [
        "# Set the random seeds (used for initializing random weights, for example)\n",
        "# so that we have a common expected behavior to talk about\n",
        "from numpy.random import seed\n",
        "from tensorflow.random import set_seed\n",
        "\n",
        "seed(4100)\n",
        "set_seed(4100)\n",
        "faces.target_names.shape"
      ],
      "execution_count": 62,
      "outputs": [
        {
          "output_type": "execute_result",
          "data": {
            "text/plain": [
              "(5,)"
            ]
          },
          "metadata": {
            "tags": []
          },
          "execution_count": 62
        }
      ]
    },
    {
      "cell_type": "code",
      "metadata": {
        "id": "VAIBXpa2YPbU",
        "colab": {
          "base_uri": "https://localhost:8080/"
        },
        "outputId": "38d8c03a-4d74-4a5a-da53-82e2a9fd2f62"
      },
      "source": [
        "# TODO - adapt the keras code with attribution\n",
        "import numpy as np\n",
        "from tensorflow import keras\n",
        "from tensorflow.keras import layers\n",
        "\n",
        "# Model / data parameters\n",
        "num_classes = 5\n",
        "input_shape = (62, 47, 1)\n",
        "\n",
        "# the data, split between train and test sets\n",
        "x_train, x_test, y_train, y_test =  train_test_split(faces['images'], faces['target'], test_size=0.1, random_state=4100)\n",
        "\n",
        "# Scale images to the [0, 1] range\n",
        "x_train = x_train.astype(\"float32\") / 255\n",
        "x_test = x_test.astype(\"float32\") / 255\n",
        "# Make sure images have shape (28, 28, 1)\n",
        "x_train = np.expand_dims(x_train, -1)\n",
        "x_test = np.expand_dims(x_test, -1)\n",
        "print(\"x_train shape:\", x_train.shape)\n",
        "print(x_train.shape[0], \"train samples\")\n",
        "print(x_test.shape[0], \"test samples\")\n",
        "\n",
        "\n",
        "# convert class vectors to binary class matrices\n",
        "y_train = keras.utils.to_categorical(y_train, num_classes)\n",
        "y_test = keras.utils.to_categorical(y_test, num_classes)\n",
        "\n",
        "model = keras.Sequential(\n",
        "    [\n",
        "        keras.Input(shape=input_shape),\n",
        "        layers.Conv2D(32, kernel_size=(3, 3), activation=\"relu\"),\n",
        "        layers.MaxPooling2D(pool_size=(2, 2)),\n",
        "        layers.Conv2D(64, kernel_size=(3, 3), activation=\"relu\"),\n",
        "        layers.MaxPooling2D(pool_size=(2, 2)),\n",
        "        layers.Flatten(),\n",
        "        layers.Dropout(0.5),\n",
        "        layers.Dense(num_classes, activation=\"softmax\"),\n",
        "    ]\n",
        ")\n",
        "\n",
        "\n",
        "batch_size = 128\n",
        "epochs = 15\n",
        "\n",
        "model.compile(loss=\"categorical_crossentropy\", optimizer=\"adam\", metrics=[\"accuracy\"])\n",
        "\n",
        "model.fit(x_train, y_train, batch_size=batch_size, epochs=epochs, validation_split=0.1)\n",
        "\n",
        "score = model.evaluate(x_test, y_test, verbose=0)\n",
        "print(\"Test loss:\", score[0])\n",
        "print(\"Test accuracy:\", score[1])"
      ],
      "execution_count": 72,
      "outputs": [
        {
          "output_type": "stream",
          "text": [
            "x_train shape: (1026, 62, 47, 1)\n",
            "1026 train samples\n",
            "114 test samples\n",
            "WARNING:tensorflow:Please add `keras.layers.InputLayer` instead of `keras.Input` to Sequential model. `keras.Input` is intended to be used by Functional model.\n",
            "Epoch 1/15\n",
            "8/8 [==============================] - 3s 357ms/step - loss: 1.4609 - accuracy: 0.4128 - val_loss: 1.4550 - val_accuracy: 0.4466\n",
            "Epoch 2/15\n",
            "8/8 [==============================] - 3s 334ms/step - loss: 1.4039 - accuracy: 0.4648 - val_loss: 1.4635 - val_accuracy: 0.4466\n",
            "Epoch 3/15\n",
            "8/8 [==============================] - 3s 335ms/step - loss: 1.3855 - accuracy: 0.4648 - val_loss: 1.4408 - val_accuracy: 0.4466\n",
            "Epoch 4/15\n",
            "8/8 [==============================] - 3s 340ms/step - loss: 1.3622 - accuracy: 0.4648 - val_loss: 1.4223 - val_accuracy: 0.4466\n",
            "Epoch 5/15\n",
            "8/8 [==============================] - 3s 344ms/step - loss: 1.3364 - accuracy: 0.4648 - val_loss: 1.3842 - val_accuracy: 0.4563\n",
            "Epoch 6/15\n",
            "8/8 [==============================] - 3s 345ms/step - loss: 1.2789 - accuracy: 0.4843 - val_loss: 1.3404 - val_accuracy: 0.4660\n",
            "Epoch 7/15\n",
            "8/8 [==============================] - 3s 349ms/step - loss: 1.1980 - accuracy: 0.5460 - val_loss: 1.2520 - val_accuracy: 0.4951\n",
            "Epoch 8/15\n",
            "8/8 [==============================] - 3s 348ms/step - loss: 1.1229 - accuracy: 0.5666 - val_loss: 1.1806 - val_accuracy: 0.5437\n",
            "Epoch 9/15\n",
            "8/8 [==============================] - 3s 349ms/step - loss: 1.0291 - accuracy: 0.6078 - val_loss: 1.0799 - val_accuracy: 0.5922\n",
            "Epoch 10/15\n",
            "8/8 [==============================] - 3s 349ms/step - loss: 0.9438 - accuracy: 0.6533 - val_loss: 0.9913 - val_accuracy: 0.6408\n",
            "Epoch 11/15\n",
            "8/8 [==============================] - 3s 351ms/step - loss: 0.8504 - accuracy: 0.7096 - val_loss: 1.0010 - val_accuracy: 0.6408\n",
            "Epoch 12/15\n",
            "8/8 [==============================] - 3s 348ms/step - loss: 0.7751 - accuracy: 0.7378 - val_loss: 0.8134 - val_accuracy: 0.7282\n",
            "Epoch 13/15\n",
            "8/8 [==============================] - 3s 351ms/step - loss: 0.6665 - accuracy: 0.7790 - val_loss: 0.7415 - val_accuracy: 0.7379\n",
            "Epoch 14/15\n",
            "8/8 [==============================] - 3s 350ms/step - loss: 0.6269 - accuracy: 0.7920 - val_loss: 0.7020 - val_accuracy: 0.7767\n",
            "Epoch 15/15\n",
            "8/8 [==============================] - 3s 349ms/step - loss: 0.5730 - accuracy: 0.8212 - val_loss: 0.6725 - val_accuracy: 0.7476\n",
            "Test loss: 0.6044679880142212\n",
            "Test accuracy: 0.8070175647735596\n"
          ],
          "name": "stdout"
        }
      ]
    },
    {
      "cell_type": "markdown",
      "metadata": {
        "id": "fD0JSzUXZiKx"
      },
      "source": [
        "Well, that was probably a bit disappointing.  But, this is the point at which you need to examine how the learning went and change your parameters accordingly.\n",
        "\n",
        "**10) Look carefully at the history of training that was printed out, including training loss, training accuracy, validation loss, and validation accuracy.  Did the training really finish?  Try copying the model to the box below and rerunning with a parameter changed that will cause the training to run longer (64 iterations through the data).**"
      ]
    },
    {
      "cell_type": "code",
      "metadata": {
        "id": "Zw9Vc6uyoo3G",
        "colab": {
          "base_uri": "https://localhost:8080/"
        },
        "outputId": "8f55eaff-115a-480b-c69f-5eb7507a03ab"
      },
      "source": [
        "# TODO run longer!\n",
        "model2 = keras.Sequential(\n",
        "    [\n",
        "        keras.Input(shape=input_shape),\n",
        "        layers.Conv2D(32, kernel_size=(3, 3), activation=\"relu\"),\n",
        "        layers.MaxPooling2D(pool_size=(2, 2)),\n",
        "        layers.Conv2D(64, kernel_size=(3, 3), activation=\"relu\"),\n",
        "        layers.MaxPooling2D(pool_size=(2, 2)),\n",
        "        layers.Flatten(),\n",
        "        layers.Dropout(0.5),\n",
        "        layers.Dense(num_classes, activation=\"softmax\"),\n",
        "    ]\n",
        ")\n",
        "\n",
        "\n",
        "batch_size = 128\n",
        "epochs = 64\n",
        "\n",
        "model2.compile(loss=\"categorical_crossentropy\", optimizer=\"adam\", metrics=[\"accuracy\"])\n",
        "\n",
        "model2.fit(x_train, y_train, batch_size=batch_size, epochs=epochs, validation_split=0.1)\n",
        "\n",
        "score = model2.evaluate(x_test, y_test, verbose=0)\n",
        "print(\"Test loss:\", score[0])\n",
        "print(\"Test accuracy:\", score[1])"
      ],
      "execution_count": 78,
      "outputs": [
        {
          "output_type": "stream",
          "text": [
            "WARNING:tensorflow:Please add `keras.layers.InputLayer` instead of `keras.Input` to Sequential model. `keras.Input` is intended to be used by Functional model.\n",
            "Epoch 1/64\n",
            "8/8 [==============================] - 3s 352ms/step - loss: 1.4481 - accuracy: 0.4442 - val_loss: 1.4549 - val_accuracy: 0.4466\n",
            "Epoch 2/64\n",
            "8/8 [==============================] - 3s 329ms/step - loss: 1.4090 - accuracy: 0.4648 - val_loss: 1.4677 - val_accuracy: 0.4466\n",
            "Epoch 3/64\n",
            "8/8 [==============================] - 3s 330ms/step - loss: 1.3912 - accuracy: 0.4648 - val_loss: 1.4423 - val_accuracy: 0.4466\n",
            "Epoch 4/64\n",
            "8/8 [==============================] - 3s 332ms/step - loss: 1.3643 - accuracy: 0.4648 - val_loss: 1.4202 - val_accuracy: 0.4466\n",
            "Epoch 5/64\n",
            "8/8 [==============================] - 3s 337ms/step - loss: 1.3469 - accuracy: 0.4648 - val_loss: 1.3931 - val_accuracy: 0.4466\n",
            "Epoch 6/64\n",
            "8/8 [==============================] - 3s 341ms/step - loss: 1.2938 - accuracy: 0.4865 - val_loss: 1.3547 - val_accuracy: 0.4660\n",
            "Epoch 7/64\n",
            "8/8 [==============================] - 3s 342ms/step - loss: 1.2260 - accuracy: 0.5298 - val_loss: 1.2882 - val_accuracy: 0.4854\n",
            "Epoch 8/64\n",
            "8/8 [==============================] - 3s 339ms/step - loss: 1.1580 - accuracy: 0.5699 - val_loss: 1.2372 - val_accuracy: 0.5340\n",
            "Epoch 9/64\n",
            "8/8 [==============================] - 3s 340ms/step - loss: 1.0648 - accuracy: 0.5829 - val_loss: 1.1215 - val_accuracy: 0.5825\n",
            "Epoch 10/64\n",
            "8/8 [==============================] - 3s 343ms/step - loss: 0.9707 - accuracy: 0.6457 - val_loss: 1.0888 - val_accuracy: 0.5243\n",
            "Epoch 11/64\n",
            "8/8 [==============================] - 3s 343ms/step - loss: 0.8618 - accuracy: 0.6956 - val_loss: 1.0204 - val_accuracy: 0.6602\n",
            "Epoch 12/64\n",
            "8/8 [==============================] - 3s 344ms/step - loss: 0.7801 - accuracy: 0.7346 - val_loss: 0.8383 - val_accuracy: 0.6990\n",
            "Epoch 13/64\n",
            "8/8 [==============================] - 3s 343ms/step - loss: 0.6954 - accuracy: 0.7660 - val_loss: 0.7793 - val_accuracy: 0.7282\n",
            "Epoch 14/64\n",
            "8/8 [==============================] - 3s 341ms/step - loss: 0.6566 - accuracy: 0.7616 - val_loss: 0.7976 - val_accuracy: 0.6990\n",
            "Epoch 15/64\n",
            "8/8 [==============================] - 3s 345ms/step - loss: 0.5995 - accuracy: 0.8017 - val_loss: 0.7172 - val_accuracy: 0.6990\n",
            "Epoch 16/64\n",
            "8/8 [==============================] - 3s 342ms/step - loss: 0.5106 - accuracy: 0.8364 - val_loss: 0.6369 - val_accuracy: 0.7767\n",
            "Epoch 17/64\n",
            "8/8 [==============================] - 3s 340ms/step - loss: 0.4482 - accuracy: 0.8483 - val_loss: 0.6271 - val_accuracy: 0.8155\n",
            "Epoch 18/64\n",
            "8/8 [==============================] - 3s 344ms/step - loss: 0.4359 - accuracy: 0.8570 - val_loss: 0.5824 - val_accuracy: 0.8350\n",
            "Epoch 19/64\n",
            "8/8 [==============================] - 3s 344ms/step - loss: 0.4325 - accuracy: 0.8516 - val_loss: 0.5531 - val_accuracy: 0.7864\n",
            "Epoch 20/64\n",
            "8/8 [==============================] - 3s 341ms/step - loss: 0.4110 - accuracy: 0.8700 - val_loss: 0.5402 - val_accuracy: 0.7961\n",
            "Epoch 21/64\n",
            "8/8 [==============================] - 3s 341ms/step - loss: 0.3645 - accuracy: 0.8830 - val_loss: 0.5553 - val_accuracy: 0.8155\n",
            "Epoch 22/64\n",
            "8/8 [==============================] - 3s 344ms/step - loss: 0.3401 - accuracy: 0.8862 - val_loss: 0.5396 - val_accuracy: 0.8252\n",
            "Epoch 23/64\n",
            "8/8 [==============================] - 3s 339ms/step - loss: 0.3559 - accuracy: 0.8787 - val_loss: 0.5761 - val_accuracy: 0.8155\n",
            "Epoch 24/64\n",
            "8/8 [==============================] - 3s 342ms/step - loss: 0.3175 - accuracy: 0.9177 - val_loss: 0.6175 - val_accuracy: 0.7670\n",
            "Epoch 25/64\n",
            "8/8 [==============================] - 3s 340ms/step - loss: 0.3232 - accuracy: 0.8917 - val_loss: 0.5262 - val_accuracy: 0.8447\n",
            "Epoch 26/64\n",
            "8/8 [==============================] - 3s 343ms/step - loss: 0.2919 - accuracy: 0.9133 - val_loss: 0.5049 - val_accuracy: 0.8252\n",
            "Epoch 27/64\n",
            "8/8 [==============================] - 3s 344ms/step - loss: 0.2701 - accuracy: 0.9209 - val_loss: 0.4871 - val_accuracy: 0.8155\n",
            "Epoch 28/64\n",
            "8/8 [==============================] - 3s 344ms/step - loss: 0.2768 - accuracy: 0.9220 - val_loss: 0.5888 - val_accuracy: 0.7864\n",
            "Epoch 29/64\n",
            "8/8 [==============================] - 3s 340ms/step - loss: 0.2633 - accuracy: 0.9198 - val_loss: 0.5013 - val_accuracy: 0.8058\n",
            "Epoch 30/64\n",
            "8/8 [==============================] - 3s 343ms/step - loss: 0.2475 - accuracy: 0.9274 - val_loss: 0.4903 - val_accuracy: 0.8738\n",
            "Epoch 31/64\n",
            "8/8 [==============================] - 3s 342ms/step - loss: 0.2387 - accuracy: 0.9252 - val_loss: 0.5121 - val_accuracy: 0.8252\n",
            "Epoch 32/64\n",
            "8/8 [==============================] - 3s 341ms/step - loss: 0.2176 - accuracy: 0.9339 - val_loss: 0.4762 - val_accuracy: 0.8447\n",
            "Epoch 33/64\n",
            "8/8 [==============================] - 3s 343ms/step - loss: 0.2096 - accuracy: 0.9404 - val_loss: 0.4999 - val_accuracy: 0.8544\n",
            "Epoch 34/64\n",
            "8/8 [==============================] - 3s 339ms/step - loss: 0.2195 - accuracy: 0.9263 - val_loss: 0.4649 - val_accuracy: 0.8350\n",
            "Epoch 35/64\n",
            "8/8 [==============================] - 3s 339ms/step - loss: 0.1911 - accuracy: 0.9393 - val_loss: 0.5402 - val_accuracy: 0.8447\n",
            "Epoch 36/64\n",
            "8/8 [==============================] - 3s 343ms/step - loss: 0.1907 - accuracy: 0.9350 - val_loss: 0.4917 - val_accuracy: 0.8447\n",
            "Epoch 37/64\n",
            "8/8 [==============================] - 3s 342ms/step - loss: 0.1973 - accuracy: 0.9263 - val_loss: 0.4599 - val_accuracy: 0.8350\n",
            "Epoch 38/64\n",
            "8/8 [==============================] - 3s 338ms/step - loss: 0.1632 - accuracy: 0.9512 - val_loss: 0.4839 - val_accuracy: 0.8447\n",
            "Epoch 39/64\n",
            "8/8 [==============================] - 3s 343ms/step - loss: 0.1710 - accuracy: 0.9502 - val_loss: 0.4638 - val_accuracy: 0.8544\n",
            "Epoch 40/64\n",
            "8/8 [==============================] - 3s 344ms/step - loss: 0.1691 - accuracy: 0.9426 - val_loss: 0.4545 - val_accuracy: 0.8544\n",
            "Epoch 41/64\n",
            "8/8 [==============================] - 3s 339ms/step - loss: 0.1514 - accuracy: 0.9534 - val_loss: 0.4788 - val_accuracy: 0.8738\n",
            "Epoch 42/64\n",
            "8/8 [==============================] - 3s 339ms/step - loss: 0.1330 - accuracy: 0.9588 - val_loss: 0.4464 - val_accuracy: 0.8641\n",
            "Epoch 43/64\n",
            "8/8 [==============================] - 3s 340ms/step - loss: 0.1488 - accuracy: 0.9512 - val_loss: 0.4728 - val_accuracy: 0.8544\n",
            "Epoch 44/64\n",
            "8/8 [==============================] - 3s 342ms/step - loss: 0.1369 - accuracy: 0.9567 - val_loss: 0.4648 - val_accuracy: 0.8447\n",
            "Epoch 45/64\n",
            "8/8 [==============================] - 3s 340ms/step - loss: 0.1343 - accuracy: 0.9610 - val_loss: 0.4551 - val_accuracy: 0.8738\n",
            "Epoch 46/64\n",
            "8/8 [==============================] - 3s 342ms/step - loss: 0.1177 - accuracy: 0.9610 - val_loss: 0.4687 - val_accuracy: 0.8738\n",
            "Epoch 47/64\n",
            "8/8 [==============================] - 3s 341ms/step - loss: 0.1199 - accuracy: 0.9632 - val_loss: 0.4686 - val_accuracy: 0.8835\n",
            "Epoch 48/64\n",
            "8/8 [==============================] - 3s 341ms/step - loss: 0.1248 - accuracy: 0.9621 - val_loss: 0.4868 - val_accuracy: 0.8544\n",
            "Epoch 49/64\n",
            "8/8 [==============================] - 3s 345ms/step - loss: 0.1154 - accuracy: 0.9642 - val_loss: 0.4395 - val_accuracy: 0.8738\n",
            "Epoch 50/64\n",
            "8/8 [==============================] - 3s 341ms/step - loss: 0.1083 - accuracy: 0.9697 - val_loss: 0.4972 - val_accuracy: 0.8544\n",
            "Epoch 51/64\n",
            "8/8 [==============================] - 3s 344ms/step - loss: 0.1087 - accuracy: 0.9664 - val_loss: 0.4207 - val_accuracy: 0.8835\n",
            "Epoch 52/64\n",
            "8/8 [==============================] - 3s 341ms/step - loss: 0.1133 - accuracy: 0.9632 - val_loss: 0.5007 - val_accuracy: 0.8738\n",
            "Epoch 53/64\n",
            "8/8 [==============================] - 3s 340ms/step - loss: 0.0879 - accuracy: 0.9772 - val_loss: 0.4247 - val_accuracy: 0.8835\n",
            "Epoch 54/64\n",
            "8/8 [==============================] - 3s 341ms/step - loss: 0.0920 - accuracy: 0.9751 - val_loss: 0.4598 - val_accuracy: 0.8835\n",
            "Epoch 55/64\n",
            "8/8 [==============================] - 3s 342ms/step - loss: 0.0825 - accuracy: 0.9772 - val_loss: 0.4503 - val_accuracy: 0.8738\n",
            "Epoch 56/64\n",
            "8/8 [==============================] - 3s 340ms/step - loss: 0.0893 - accuracy: 0.9729 - val_loss: 0.4573 - val_accuracy: 0.8835\n",
            "Epoch 57/64\n",
            "8/8 [==============================] - 3s 343ms/step - loss: 0.0879 - accuracy: 0.9707 - val_loss: 0.4279 - val_accuracy: 0.8641\n",
            "Epoch 58/64\n",
            "8/8 [==============================] - 3s 340ms/step - loss: 0.0967 - accuracy: 0.9675 - val_loss: 0.4951 - val_accuracy: 0.8641\n",
            "Epoch 59/64\n",
            "8/8 [==============================] - 3s 344ms/step - loss: 0.0831 - accuracy: 0.9740 - val_loss: 0.4394 - val_accuracy: 0.8738\n",
            "Epoch 60/64\n",
            "8/8 [==============================] - 3s 341ms/step - loss: 0.0853 - accuracy: 0.9762 - val_loss: 0.4508 - val_accuracy: 0.8835\n",
            "Epoch 61/64\n",
            "8/8 [==============================] - 3s 341ms/step - loss: 0.1041 - accuracy: 0.9686 - val_loss: 0.4532 - val_accuracy: 0.8835\n",
            "Epoch 62/64\n",
            "8/8 [==============================] - 3s 343ms/step - loss: 0.0764 - accuracy: 0.9848 - val_loss: 0.4476 - val_accuracy: 0.8835\n",
            "Epoch 63/64\n",
            "8/8 [==============================] - 3s 341ms/step - loss: 0.0692 - accuracy: 0.9805 - val_loss: 0.4445 - val_accuracy: 0.8738\n",
            "Epoch 64/64\n",
            "8/8 [==============================] - 3s 342ms/step - loss: 0.0718 - accuracy: 0.9870 - val_loss: 0.4540 - val_accuracy: 0.8835\n",
            "Test loss: 0.19357353448867798\n",
            "Test accuracy: 0.9385964870452881\n"
          ],
          "name": "stdout"
        }
      ]
    },
    {
      "cell_type": "markdown",
      "metadata": {
        "id": "EIWMT_GAUqhq"
      },
      "source": [
        "That was an easy fix, but there are other issues we could try to address here.  We know the underlying problem is more difficult, but we haven't made the network any more complex to match.  There's also evidence of overfitting in the training history, since the accuracy on the training data is rather higher than the accuracy on the validation data.\n",
        "\n",
        "**12) Describe one reasonable strategy for dealing with the overfitting.  (You don't need to implement it, since that likely involves some guesswork.)**\n",
        "\n",
        "Changing the given can be a way to deal with overfitting. We can attempt to increase the droupout probability, or increase the size of MaxPooling to downsample even further, as this could be similar to convolution. We could technically add more convolution layers as well, with some filters and see if that works.\n",
        "\n",
        "**13) Decide which of the following is most likely to help create high-level features:  doubling the number of filters (and feature maps) in the first convolutional layer, or doubling the number of filters (and feature maps) in the second layer.  Then copy your last network below, make the change, and train for the same number of iterations as your last network.**\n"
      ]
    },
    {
      "cell_type": "code",
      "metadata": {
        "id": "PSgzcLvXV1tK",
        "colab": {
          "base_uri": "https://localhost:8080/"
        },
        "outputId": "4a333c02-f80b-4ef2-d00d-5737202819bf"
      },
      "source": [
        "# TODO more filters for higher-level features\n",
        "model3 = keras.Sequential(\n",
        "    [\n",
        "        keras.Input(shape=input_shape),\n",
        "        layers.Conv2D(64, kernel_size=(3, 3), activation=\"relu\"),\n",
        "        layers.MaxPooling2D(pool_size=(2, 2)),\n",
        "        layers.Conv2D(64, kernel_size=(3, 3), activation=\"relu\"),\n",
        "        layers.MaxPooling2D(pool_size=(2, 2)),\n",
        "        layers.Flatten(),\n",
        "        layers.Dropout(0.5),\n",
        "        layers.Dense(num_classes, activation=\"softmax\"),\n",
        "    ]\n",
        ")\n",
        "\n",
        "\n",
        "batch_size = 128\n",
        "epochs = 64\n",
        "\n",
        "model3.compile(loss=\"categorical_crossentropy\", optimizer=\"adam\", metrics=[\"accuracy\"])\n",
        "\n",
        "model3.fit(x_train, y_train, batch_size=batch_size, epochs=epochs, validation_split=0.1)\n",
        "\n",
        "score = model3.evaluate(x_test, y_test, verbose=0)\n",
        "print(\"Test loss:\", score[0])\n",
        "print(\"Test accuracy:\", score[1])"
      ],
      "execution_count": 77,
      "outputs": [
        {
          "output_type": "stream",
          "text": [
            "WARNING:tensorflow:Please add `keras.layers.InputLayer` instead of `keras.Input` to Sequential model. `keras.Input` is intended to be used by Functional model.\n",
            "Epoch 1/64\n",
            "8/8 [==============================] - 5s 576ms/step - loss: 1.4886 - accuracy: 0.4204 - val_loss: 1.4576 - val_accuracy: 0.4466\n",
            "Epoch 2/64\n",
            "8/8 [==============================] - 4s 549ms/step - loss: 1.4191 - accuracy: 0.4648 - val_loss: 1.4481 - val_accuracy: 0.4466\n",
            "Epoch 3/64\n",
            "8/8 [==============================] - 4s 547ms/step - loss: 1.4015 - accuracy: 0.4648 - val_loss: 1.4446 - val_accuracy: 0.4466\n",
            "Epoch 4/64\n",
            "8/8 [==============================] - 4s 550ms/step - loss: 1.3831 - accuracy: 0.4648 - val_loss: 1.4346 - val_accuracy: 0.4466\n",
            "Epoch 5/64\n",
            "8/8 [==============================] - 4s 555ms/step - loss: 1.3662 - accuracy: 0.4648 - val_loss: 1.3977 - val_accuracy: 0.4466\n",
            "Epoch 6/64\n",
            "8/8 [==============================] - 5s 564ms/step - loss: 1.3233 - accuracy: 0.4670 - val_loss: 1.3642 - val_accuracy: 0.4563\n",
            "Epoch 7/64\n",
            "8/8 [==============================] - 5s 568ms/step - loss: 1.2654 - accuracy: 0.5114 - val_loss: 1.2907 - val_accuracy: 0.4854\n",
            "Epoch 8/64\n",
            "8/8 [==============================] - 5s 568ms/step - loss: 1.1738 - accuracy: 0.5536 - val_loss: 1.2223 - val_accuracy: 0.5049\n",
            "Epoch 9/64\n",
            "8/8 [==============================] - 5s 575ms/step - loss: 1.0732 - accuracy: 0.5731 - val_loss: 1.1321 - val_accuracy: 0.5340\n",
            "Epoch 10/64\n",
            "8/8 [==============================] - 5s 570ms/step - loss: 0.9879 - accuracy: 0.6284 - val_loss: 1.0352 - val_accuracy: 0.6019\n",
            "Epoch 11/64\n",
            "8/8 [==============================] - 5s 576ms/step - loss: 0.8623 - accuracy: 0.6901 - val_loss: 0.9700 - val_accuracy: 0.6796\n",
            "Epoch 12/64\n",
            "8/8 [==============================] - 5s 572ms/step - loss: 0.7944 - accuracy: 0.7313 - val_loss: 0.8233 - val_accuracy: 0.7087\n",
            "Epoch 13/64\n",
            "8/8 [==============================] - 5s 569ms/step - loss: 0.6801 - accuracy: 0.7790 - val_loss: 0.7410 - val_accuracy: 0.7476\n",
            "Epoch 14/64\n",
            "8/8 [==============================] - 5s 574ms/step - loss: 0.6362 - accuracy: 0.7844 - val_loss: 0.7085 - val_accuracy: 0.7767\n",
            "Epoch 15/64\n",
            "8/8 [==============================] - 5s 567ms/step - loss: 0.5712 - accuracy: 0.8147 - val_loss: 0.7224 - val_accuracy: 0.6990\n",
            "Epoch 16/64\n",
            "8/8 [==============================] - 5s 575ms/step - loss: 0.4977 - accuracy: 0.8462 - val_loss: 0.5910 - val_accuracy: 0.8252\n",
            "Epoch 17/64\n",
            "8/8 [==============================] - 5s 573ms/step - loss: 0.4443 - accuracy: 0.8451 - val_loss: 0.5988 - val_accuracy: 0.8155\n",
            "Epoch 18/64\n",
            "8/8 [==============================] - 5s 575ms/step - loss: 0.4132 - accuracy: 0.8743 - val_loss: 0.5827 - val_accuracy: 0.8252\n",
            "Epoch 19/64\n",
            "8/8 [==============================] - 5s 569ms/step - loss: 0.3863 - accuracy: 0.8754 - val_loss: 0.5292 - val_accuracy: 0.8447\n",
            "Epoch 20/64\n",
            "8/8 [==============================] - 5s 576ms/step - loss: 0.3678 - accuracy: 0.8808 - val_loss: 0.5139 - val_accuracy: 0.8058\n",
            "Epoch 21/64\n",
            "8/8 [==============================] - 5s 572ms/step - loss: 0.3475 - accuracy: 0.8927 - val_loss: 0.5274 - val_accuracy: 0.8350\n",
            "Epoch 22/64\n",
            "8/8 [==============================] - 5s 572ms/step - loss: 0.3389 - accuracy: 0.8906 - val_loss: 0.5397 - val_accuracy: 0.7961\n",
            "Epoch 23/64\n",
            "8/8 [==============================] - 5s 574ms/step - loss: 0.3259 - accuracy: 0.8927 - val_loss: 0.5231 - val_accuracy: 0.8447\n",
            "Epoch 24/64\n",
            "8/8 [==============================] - 5s 569ms/step - loss: 0.2960 - accuracy: 0.9068 - val_loss: 0.5424 - val_accuracy: 0.8058\n",
            "Epoch 25/64\n",
            "8/8 [==============================] - 5s 569ms/step - loss: 0.2703 - accuracy: 0.9133 - val_loss: 0.5013 - val_accuracy: 0.8350\n",
            "Epoch 26/64\n",
            "8/8 [==============================] - 5s 566ms/step - loss: 0.2533 - accuracy: 0.9144 - val_loss: 0.5066 - val_accuracy: 0.8350\n",
            "Epoch 27/64\n",
            "8/8 [==============================] - 5s 571ms/step - loss: 0.2471 - accuracy: 0.9231 - val_loss: 0.4565 - val_accuracy: 0.8350\n",
            "Epoch 28/64\n",
            "8/8 [==============================] - 5s 571ms/step - loss: 0.2251 - accuracy: 0.9317 - val_loss: 0.4813 - val_accuracy: 0.8544\n",
            "Epoch 29/64\n",
            "8/8 [==============================] - 5s 571ms/step - loss: 0.2243 - accuracy: 0.9372 - val_loss: 0.4844 - val_accuracy: 0.8155\n",
            "Epoch 30/64\n",
            "8/8 [==============================] - 5s 567ms/step - loss: 0.2279 - accuracy: 0.9177 - val_loss: 0.4695 - val_accuracy: 0.8738\n",
            "Epoch 31/64\n",
            "8/8 [==============================] - 5s 572ms/step - loss: 0.2014 - accuracy: 0.9339 - val_loss: 0.4428 - val_accuracy: 0.8641\n",
            "Epoch 32/64\n",
            "8/8 [==============================] - 5s 568ms/step - loss: 0.1961 - accuracy: 0.9328 - val_loss: 0.4410 - val_accuracy: 0.8738\n",
            "Epoch 33/64\n",
            "8/8 [==============================] - 5s 577ms/step - loss: 0.1940 - accuracy: 0.9339 - val_loss: 0.4381 - val_accuracy: 0.8544\n",
            "Epoch 34/64\n",
            "8/8 [==============================] - 5s 573ms/step - loss: 0.1647 - accuracy: 0.9480 - val_loss: 0.4206 - val_accuracy: 0.8641\n",
            "Epoch 35/64\n",
            "8/8 [==============================] - 5s 569ms/step - loss: 0.1481 - accuracy: 0.9610 - val_loss: 0.4891 - val_accuracy: 0.8641\n",
            "Epoch 36/64\n",
            "8/8 [==============================] - 5s 571ms/step - loss: 0.1600 - accuracy: 0.9437 - val_loss: 0.4691 - val_accuracy: 0.8835\n",
            "Epoch 37/64\n",
            "8/8 [==============================] - 5s 567ms/step - loss: 0.1789 - accuracy: 0.9426 - val_loss: 0.4170 - val_accuracy: 0.8447\n",
            "Epoch 38/64\n",
            "8/8 [==============================] - 5s 574ms/step - loss: 0.1454 - accuracy: 0.9599 - val_loss: 0.4632 - val_accuracy: 0.8738\n",
            "Epoch 39/64\n",
            "8/8 [==============================] - 5s 571ms/step - loss: 0.1512 - accuracy: 0.9588 - val_loss: 0.4086 - val_accuracy: 0.8835\n",
            "Epoch 40/64\n",
            "8/8 [==============================] - 5s 573ms/step - loss: 0.1224 - accuracy: 0.9621 - val_loss: 0.4221 - val_accuracy: 0.8932\n",
            "Epoch 41/64\n",
            "8/8 [==============================] - 5s 569ms/step - loss: 0.1442 - accuracy: 0.9469 - val_loss: 0.4613 - val_accuracy: 0.8738\n",
            "Epoch 42/64\n",
            "8/8 [==============================] - 5s 570ms/step - loss: 0.1252 - accuracy: 0.9621 - val_loss: 0.4598 - val_accuracy: 0.8932\n",
            "Epoch 43/64\n",
            "8/8 [==============================] - 5s 568ms/step - loss: 0.1191 - accuracy: 0.9610 - val_loss: 0.3916 - val_accuracy: 0.8932\n",
            "Epoch 44/64\n",
            "8/8 [==============================] - 5s 571ms/step - loss: 0.1178 - accuracy: 0.9653 - val_loss: 0.4150 - val_accuracy: 0.8835\n",
            "Epoch 45/64\n",
            "8/8 [==============================] - 5s 569ms/step - loss: 0.1066 - accuracy: 0.9697 - val_loss: 0.4358 - val_accuracy: 0.8932\n",
            "Epoch 46/64\n",
            "8/8 [==============================] - 5s 570ms/step - loss: 0.1122 - accuracy: 0.9664 - val_loss: 0.3857 - val_accuracy: 0.9029\n",
            "Epoch 47/64\n",
            "8/8 [==============================] - 5s 576ms/step - loss: 0.0847 - accuracy: 0.9751 - val_loss: 0.4228 - val_accuracy: 0.8835\n",
            "Epoch 48/64\n",
            "8/8 [==============================] - 5s 567ms/step - loss: 0.0972 - accuracy: 0.9783 - val_loss: 0.4494 - val_accuracy: 0.8738\n",
            "Epoch 49/64\n",
            "8/8 [==============================] - 5s 568ms/step - loss: 0.0820 - accuracy: 0.9816 - val_loss: 0.3896 - val_accuracy: 0.9029\n",
            "Epoch 50/64\n",
            "8/8 [==============================] - 5s 571ms/step - loss: 0.0828 - accuracy: 0.9816 - val_loss: 0.4649 - val_accuracy: 0.8835\n",
            "Epoch 51/64\n",
            "8/8 [==============================] - 5s 571ms/step - loss: 0.0942 - accuracy: 0.9718 - val_loss: 0.3908 - val_accuracy: 0.8835\n",
            "Epoch 52/64\n",
            "8/8 [==============================] - 5s 567ms/step - loss: 0.0902 - accuracy: 0.9772 - val_loss: 0.4545 - val_accuracy: 0.8835\n",
            "Epoch 53/64\n",
            "8/8 [==============================] - 5s 572ms/step - loss: 0.0757 - accuracy: 0.9805 - val_loss: 0.3907 - val_accuracy: 0.9029\n",
            "Epoch 54/64\n",
            "8/8 [==============================] - 5s 564ms/step - loss: 0.0774 - accuracy: 0.9805 - val_loss: 0.4565 - val_accuracy: 0.8835\n",
            "Epoch 55/64\n",
            "8/8 [==============================] - 5s 572ms/step - loss: 0.0778 - accuracy: 0.9718 - val_loss: 0.4525 - val_accuracy: 0.9126\n",
            "Epoch 56/64\n",
            "8/8 [==============================] - 5s 564ms/step - loss: 0.0764 - accuracy: 0.9783 - val_loss: 0.3795 - val_accuracy: 0.9029\n",
            "Epoch 57/64\n",
            "8/8 [==============================] - 5s 570ms/step - loss: 0.0767 - accuracy: 0.9740 - val_loss: 0.4583 - val_accuracy: 0.9029\n",
            "Epoch 58/64\n",
            "8/8 [==============================] - 5s 568ms/step - loss: 0.0668 - accuracy: 0.9816 - val_loss: 0.4128 - val_accuracy: 0.8932\n",
            "Epoch 59/64\n",
            "8/8 [==============================] - 5s 571ms/step - loss: 0.0645 - accuracy: 0.9859 - val_loss: 0.4131 - val_accuracy: 0.8932\n",
            "Epoch 60/64\n",
            "8/8 [==============================] - 5s 571ms/step - loss: 0.0818 - accuracy: 0.9794 - val_loss: 0.4390 - val_accuracy: 0.8932\n",
            "Epoch 61/64\n",
            "8/8 [==============================] - 5s 568ms/step - loss: 0.0799 - accuracy: 0.9762 - val_loss: 0.4162 - val_accuracy: 0.9029\n",
            "Epoch 62/64\n",
            "8/8 [==============================] - 5s 572ms/step - loss: 0.0593 - accuracy: 0.9848 - val_loss: 0.4567 - val_accuracy: 0.8932\n",
            "Epoch 63/64\n",
            "8/8 [==============================] - 5s 566ms/step - loss: 0.0484 - accuracy: 0.9924 - val_loss: 0.4189 - val_accuracy: 0.9029\n",
            "Epoch 64/64\n",
            "8/8 [==============================] - 5s 568ms/step - loss: 0.0626 - accuracy: 0.9848 - val_loss: 0.5044 - val_accuracy: 0.8932\n",
            "Test loss: 0.19938024878501892\n",
            "Test accuracy: 0.9473684430122375\n"
          ],
          "name": "stdout"
        }
      ]
    },
    {
      "cell_type": "markdown",
      "metadata": {
        "id": "2x93DqnQcIpu"
      },
      "source": [
        "Clearly, we could carry on like this for quite a while in search of improved validation set performance, and people often do in order to optimize their networks.  (And you will if you choose the deep neural network project type!)  But, we won't belabor the point here.\n",
        "\n",
        "**14) Evaluate the best of your networks on the test data.**"
      ]
    },
    {
      "cell_type": "code",
      "metadata": {
        "id": "9icqcJ8rqn9e",
        "colab": {
          "base_uri": "https://localhost:8080/"
        },
        "outputId": "dd8ecc55-b686-49a5-f0e2-009efe40a9e9"
      },
      "source": [
        "score = model3.evaluate(x_test, y_test, verbose=0)\n",
        "print(\"Test loss:\", score[0])\n",
        "print(\"Test accuracy:\", score[1])"
      ],
      "execution_count": 79,
      "outputs": [
        {
          "output_type": "stream",
          "text": [
            "Test loss: 0.19938024878501892\n",
            "Test accuracy: 0.9473684430122375\n"
          ],
          "name": "stdout"
        }
      ]
    },
    {
      "cell_type": "markdown",
      "metadata": {
        "id": "_ZE_Daa-cTd6"
      },
      "source": [
        "# Final project proposal\n",
        "\n",
        "You can choose from the five following templates:\n",
        "\n",
        "1) *MCTS* - Implement Monte Carlo Tree Search on the board game of your choice with the nonrandom rollout strategy of your choice.  You're expected to implement the game mechanics for your chosen game (it shouldn't be Othello), but don't need to implement all of them.  Evaluation can consist of playing against humans, MCTS with random rollout, minimax, or something comparable (choose one).\n",
        "\n",
        "2) *Deep neural networks* - Choose a somewhat difficult problem, probably one that involves images or sound, and try to train a deep neural network on a classification or regression problem.  (For full credit, you can't choose a dataset that already has a deep neural network tutorial online.)  You can and probably should base your design on an existing deep neural network for a *similar* problem, but then will need to run experiments to improve your performance; most of the work here will be on experiments instead of your first implementation.\n",
        "\n",
        "3) *Coding other ML* - Code your own machine learning approach, then test it against out-of-the-box solutions from scikit-learn on a problem of your choosing.  Relatively less experimentation is expected than the deep learning approach, since you will spend more time coding.  Appropriate ML to code could include decision trees, k-nearest-neighbors with a fast implementation for lookup, boosting, or genetic algorithms (pick one).  (You can propose other algorithms, but they could be rejected as too easy or too hard.)\n",
        "\n",
        "4) *Natural language processing* - As 2 or 3, but your data will be generated with a pass through BERT, a neural network that performs nonlinear dimensionality reduction to turn sentences into vectors.  The data becomes somewhat unintuitive, but is easy to work with from the coding side, and tends to produce reasonably good results easily.  The evaluation here will emphasize testing hypotheses about how the trained system works.  For a glimpse of BERT, consider the tutorial here:   https://jalammar.github.io/a-visual-guide-to-using-bert-for-the-first-time/\n",
        "\n",
        "5) *Reinforcement learning* - Choose a board game or Atari video game to perform reinforcement learning on.  In the case of the board game (which isn't Othello), you can write your TD-learning code on top of minimax code.  In the case of the video game, you can try to optimize deep Q-learning for the chosen Atari game, with a style of evaluation similar to option 2.  You'll find OpenAI gym helpful for an Atari project:  https://gym.openai.com/"
      ]
    },
    {
      "cell_type": "markdown",
      "metadata": {
        "id": "1d0C1yYgcXkL"
      },
      "source": [
        "**F1) Who will be in your group?  (List 0-2 teammates; 1-2 is recommended)**\n",
        "1. Chris Tozlowski\n",
        "2. Amrit Ramesh"
      ]
    },
    {
      "cell_type": "markdown",
      "metadata": {
        "id": "C3Cipxp3cgfT"
      },
      "source": [
        "**F2) Which of the five project templates will you follow?  (MCTS, Deep NN, Comparing ML methods, Natural language, Reinforcement learning)**\n",
        "\n",
        "Reinforcement Learning\n"
      ]
    },
    {
      "cell_type": "markdown",
      "metadata": {
        "id": "ib06_NlacvDz"
      },
      "source": [
        "**F3) What is your proposed project?  (This can be just a few sentences -- give us an idea of your plan.)**\n",
        "\n",
        "Our proposed project would be RL of a Savlo version of Battleship (where a player launches 5 pins on the board instead of 1, and get info on hit/miss; and the number of shots you get decreses as the ships sink) -- we are still a bit unsure depending on the complexity and features involved for the particular game. We want to make an AI that can learn the game and play at a basic level against a human.\n"
      ]
    },
    {
      "cell_type": "markdown",
      "metadata": {
        "id": "Dn8mlAf0dmof"
      },
      "source": [
        "**F4) Answer the questions that correspond to your project template choice.**\n",
        "\n",
        "**MCTS:  Describe your game.  What is your strategy for rollout?  What aspects of your game do you consider essential to implement, to evaluate the AI?**\n",
        "\n",
        "**Deep NN:  How will you get your dataset?  What is a similar but not identical neural network?  What will you try to vary to make your project work better?**\n",
        "\n",
        "**Comparing ML:  How will you get your dataset?  What methods do you propose to compare?  Which one will you implement yourself?**\n",
        "\n",
        "**Natural language:  What is your system trying to determine?  Where will you get your dataset?  What is your hypothesis for what kinds of words will trigger the classification?**\n",
        "\n",
        "**Reinforcement learning:  What features will your agent use to make decisions?  What code already exists to help you, and what is it about your project that will be different from that code?**\n",
        "\n",
        "\n",
        "The main features if we'll be doing Savlo, will be number and type of ships remaining, the proportion of hits to misses, the number of consecutive pins and the the ships remaining. The code for standard Battleship RL is present on the web. We might need to code/debug to get Savlo working. "
      ]
    },
    {
      "cell_type": "markdown",
      "metadata": {
        "id": "57xVqc3lePMZ"
      },
      "source": [
        "**F5) Describe what will be done by the Week 5 and Week 6 milestones.  The Week 5 Milestone is *groundwork* - everything is in place to really get going - and the Week 6 milestone is *mostly there* - everything is basically done but needs debugging, tuning, and so on.  What do those mean for your project?**\n",
        "\n",
        "\n",
        "Week 5 - a working implementation of the game with the standard AI to be played.\n",
        "\n",
        "Week 6 - adding Savlo features for the AI and implementing RL\n",
        "\n",
        "Week 7 - debugging and tweaking\n"
      ]
    },
    {
      "cell_type": "markdown",
      "metadata": {
        "id": "3c0HCSN8fQhw"
      },
      "source": [
        "Think carefully about your project choices - it's a good idea to pick subject matter with which you're familiar, and a method that you're interested to learn more about, rather than the other way around.  Happy daydreaming!\n",
        "\n",
        "**Please remember to submit a PDF version of this assignment as well.  Thanks!**"
      ]
    }
  ]
}