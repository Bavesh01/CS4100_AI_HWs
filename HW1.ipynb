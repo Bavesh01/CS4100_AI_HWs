{
  "nbformat": 4,
  "nbformat_minor": 0,
  "metadata": {
    "colab": {
      "name": "YourName_HW1-1.ipynb",
      "provenance": [],
      "collapsed_sections": [],
      "toc_visible": true
    },
    "kernelspec": {
      "name": "python3",
      "display_name": "Python 3"
    }
  },
  "cells": [
    {
      "cell_type": "markdown",
      "metadata": {
        "id": "wQcsYUGrsAe2"
      },
      "source": [
        "# 4100 Assignment 1: A*, Heuristics, and the Fifteen Puzzle"
      ]
    },
    {
      "cell_type": "markdown",
      "metadata": {
        "id": "xY7Fg-Uxrebh"
      },
      "source": [
        "In this assignment, you’ll get some experience abstracting a problem into a search problem, implement the A* search algorithm (still the most common way of doing pathfinding in video games), and experiment with the effects of using different heuristics for the search."
      ]
    },
    {
      "cell_type": "markdown",
      "metadata": {
        "id": "0LWl4duasqFw"
      },
      "source": [
        "You will only need to submit this completed .ipynb notebook to Canvas, as well as a PDF version in case the .ipynb has a problem (Print->Save to PDF).  Despite the redundancy, please make sure you submit the most recent version of your notebook file."
      ]
    },
    {
      "cell_type": "markdown",
      "metadata": {
        "id": "CbmdWt8xtWPR"
      },
      "source": [
        "The goal of a fifteen puzzle is to get all fifteen tiles in order from left to right, top to bottom, like so:\n",
        "\n",
        "1 2 3 4\n",
        "\n",
        "5 6 7 8\n",
        "\n",
        "9 10 11 12\n",
        "\n",
        "13 14 15 -\n",
        "\n",
        "The only legal moves are to move a tile adjacent to the blank into the blank space, making the tile’s previous space blank. Thus the maximum number of neighbors is 4, but the number of neighbors could be as small as 2 if the blank is in a corner.\n",
        "\n",
        "**1) Is a count of number of tiles out of place an admissible heuristic if the blank is not counted as a tile? What if the blank is counted as a tile? In each case, if the heuristic is admissible, explain how you know, and if it is not, give an example that shows the heuristic is inadmissible.**\n"
      ]
    },
    {
      "cell_type": "markdown",
      "metadata": {
        "id": "wuqscHWQtxoN"
      },
      "source": [
        "\n",
        "\n",
        "1. Number of tiles displaced given that blank tile is **not** counted is an ADMISSIBLE heuristic because if we have a displaced tile, it takes >=1 moves to relocate to its right place. Given 2 for example, it would take >=2 moves to get the solution.\n",
        "\n",
        "2. Number of tiles displaced given that blank tile **is** counted is an INADMISSIBLE heuristic because when the solution is off by only 1 move, i.e. 15 is moved from above example, our heuristic would say 2 (counting the blank) which is NOT OPTIMISTIC, given that it can be solved in 1 move."
      ]
    },
    {
      "cell_type": "markdown",
      "metadata": {
        "id": "gO9urgKOtTUi"
      },
      "source": [
        "Here is some provided code to get you started.  Notice the functions that are available to you."
      ]
    },
    {
      "cell_type": "code",
      "metadata": {
        "id": "mND5ggjAgUrn"
      },
      "source": [
        "\"\"\"Use A* to solve fifteen puzzle instances.\n",
        "\n",
        "The \"main\" of this code is solve_and_print, at the end.  We'll try two different\n",
        "heuristics, counting tiles out of place and summing Manhattan distance from\n",
        "the destination over all tiles (the better heuristic).\"\"\"\n",
        "\n",
        "import sys\n",
        "import copy\n",
        "import numpy as np\n",
        "from queue import PriorityQueue\n",
        "\n",
        "PUZZLE_WIDTH = 4\n",
        "BLANK = 0  # Integer comparison tends to be faster than string comparison\n",
        "\n",
        "def read_puzzle_string(puzzle_string):\n",
        "    \"\"\"Read a NumberPuzzle from string representation; space-delimited, blank is \"-\".\n",
        "\n",
        "    Args:\n",
        "      puzzle_string (string):  string representation of the puzzle\n",
        "\n",
        "    Returns:\n",
        "      A NumberPuzzle\n",
        "    \"\"\"\n",
        "    new_puzzle = NumberPuzzle()\n",
        "    row = 0\n",
        "    for line in puzzle_string.splitlines():\n",
        "        tokens = line.split()\n",
        "        for i in range(PUZZLE_WIDTH):\n",
        "            if tokens[i] == '-':\n",
        "                new_puzzle.tiles[row][i] = BLANK\n",
        "                new_puzzle.blank_r = row\n",
        "                new_puzzle.blank_c = i\n",
        "            else:\n",
        "                try:\n",
        "                    new_puzzle.tiles[row][i] = int(tokens[i])\n",
        "                except ValueError:\n",
        "                    sys.exit(\"Found unexpected non-integer for tile value\")\n",
        "        row += 1\n",
        "    return new_puzzle\n",
        "\n",
        "class NumberPuzzle(object):\n",
        "    \"\"\" Class containing the state of the puzzle, as well as A* bookkeeping info.\n",
        "\n",
        "    Attributes:\n",
        "        tiles (numpy array): 2D array of ints for tiles.\n",
        "        blank_r (int):  Row of the blank, for easy identification of neighbors\n",
        "        blank_c (int):  Column of blank, same reason\n",
        "        parent (NumberPuzzle):  Reference to previous puzzle, for backtracking later\n",
        "        dist_from_start (int):  Steps taken from start of puzzle to here\n",
        "        key (int or float):  Key for priority queue to determine which puzzle is next\n",
        "    \"\"\"\n",
        "\n",
        "    def __init__(self):\n",
        "        \"\"\" Just return zeros for everything and fill in the tile array later\"\"\"\n",
        "        self.tiles = np.zeros((PUZZLE_WIDTH, PUZZLE_WIDTH))\n",
        "        self.blank_r = 0\n",
        "        self.blank_c = 0\n",
        "        # This next field is for our convenience when generating a solution\n",
        "        # -- remember which puzzle was the move before\n",
        "        self.parent = None\n",
        "        self.dist_from_start = 0\n",
        "        self.key = 0\n",
        "\n",
        "    def __str__(self):\n",
        "        \"\"\"This is the Python equivalent of Java's toString().\"\"\"\n",
        "        out = \"\"\n",
        "        for i in range(PUZZLE_WIDTH):\n",
        "            for j in range(PUZZLE_WIDTH):\n",
        "                if j > 0:\n",
        "                    out += \" \"\n",
        "                if self.tiles[i][j] == BLANK:\n",
        "                    out += \"-\"\n",
        "                else:\n",
        "                    out += str(int(self.tiles[i][j]))\n",
        "            out += \"\\n\"\n",
        "        return out\n",
        "\n",
        "    def copy(self):\n",
        "        \"\"\"Copy the puzzle and update the parent field.\n",
        "        \n",
        "        In A* search, we generally want to copy instead of destructively alter,\n",
        "        since we're not backtracking so much as jumping around the search tree.\n",
        "        Also, if A and B are numpy arrays, \"A = B\" only passes a reference to B.\n",
        "        We'll also use this to tell the child we're its parent.\"\"\"\n",
        "        child = NumberPuzzle()\n",
        "        child.tiles = np.copy(self.tiles)\n",
        "        child.blank_r = self.blank_r\n",
        "        child.blank_c = self.blank_c\n",
        "        child.dist_from_start = self.dist_from_start\n",
        "        child.parent = self\n",
        "        return child\n",
        "\n",
        "    def __eq__(self, other):\n",
        "        \"\"\"Governs behavior of ==.\n",
        "        \n",
        "        Overrides == for this object so that we can compare by tile arrangement\n",
        "        instead of reference.  This is going to be pretty common, so we'll skip\n",
        "        a type check on \"other\" for a modest speed increase\"\"\"\n",
        "        return np.array_equal(self.tiles, other.tiles)\n",
        "\n",
        "    def __hash__(self):\n",
        "        \"\"\"Generate a code for hash-based data structures.\n",
        "        \n",
        "        Hash function necessary for inclusion in a set -- unique \"name\"\n",
        "        for this object -- we'll just hash the bytes of the 2D array\"\"\"\n",
        "        return hash(bytes(self.tiles))\n",
        "\n",
        "    def __lt__(self, obj):\n",
        "        \"\"\"Governs behavior of <, and more importantly, the priority queue.\n",
        "        \n",
        "        Override less-than so that we can put these in a priority queue\n",
        "        with no problem.  We don't want to recompute the heuristic here,\n",
        "        though -- that would be too slow to do it every time we need to\n",
        "        reorganize the priority queue\"\"\"\n",
        "        return self.key < obj.key\n",
        "\n",
        "    def total_h(self, better_h):\n",
        "        \"\"\"A* cost:  admissible heuristic plus cost-so-far.\n",
        "\n",
        "        Args:\n",
        "            better_h (boolean):  True for Manhattan distance, false for counting tiles.\n",
        "          \n",
        "        Returns:\n",
        "            A number representing the heuristic value (int or float)\n",
        "        \"\"\"\n",
        "        return self.dist_from_start + self.heuristic(better_h)\n",
        "\n",
        "    def move(self, tile_row, tile_column):\n",
        "        \"\"\"Move from the row, column coordinates given into the blank.\n",
        "\n",
        "        Also very common, so we will also skip checks for legality to improve speed.\n",
        "\n",
        "        Args:\n",
        "            tile_row (int):  Row of the tile to move.\n",
        "            tile_column (int):  Column of the tile to move.\n",
        "        \"\"\"\n",
        "\n",
        "        self.tiles[self.blank_r][self.blank_c] = self.tiles[tile_row][tile_column]\n",
        "        self.tiles[tile_row][tile_column] = BLANK\n",
        "        self.blank_r = tile_row\n",
        "        self.blank_c = tile_column\n",
        "        self.dist_from_start += 1\n",
        "\n",
        "    def legal_moves(self):\n",
        "        \"\"\"Return a list of NumberPuzzle states that could result from one move.\n",
        "\n",
        "        Return a list of NumberPuzzle states that could result from one move\n",
        "        on the present board.  Use this to keep the order in which\n",
        "        moves are evaluated the same as our solution, thus matching the\n",
        "        HackerRank solution as well.  (Also notice we're still in the\n",
        "        methods of NumberPuzzle, hence the lack of arguments.)\n",
        "\n",
        "        Returns:\n",
        "            List of NumberPuzzles.\n",
        "        \"\"\"\n",
        "        legal = []\n",
        "        if self.blank_r > 0:\n",
        "            down_result = self.copy()\n",
        "            down_result.move(self.blank_r-1, self.blank_c)\n",
        "            legal.append(down_result)\n",
        "        if self.blank_c > 0:\n",
        "            right_result = self.copy()\n",
        "            right_result.move(self.blank_r, self.blank_c-1)\n",
        "            legal.append(right_result)\n",
        "        if self.blank_r < PUZZLE_WIDTH - 1:\n",
        "            up_result = self.copy()\n",
        "            up_result.move(self.blank_r+1, self.blank_c)\n",
        "            legal.append(up_result)\n",
        "        if self.blank_c < PUZZLE_WIDTH - 1:\n",
        "            left_result = self.copy()\n",
        "            left_result.move(self.blank_r, self.blank_c+1)\n",
        "            legal.append(left_result)\n",
        "        return legal\n",
        "\n",
        "    def solve(self, better_h):\n",
        "        \"\"\"Return a list of puzzle states from this state to solved.\n",
        "\n",
        "        Args:\n",
        "            better_h (boolean):  True if Manhattan heuristic, false if tile counting\n",
        "\n",
        "        Returns:\n",
        "            path (list of NumberPuzzle or None) - path from start state to finish state\n",
        "            explored - total number of nodes pulled from the priority queue\n",
        "        \"\"\"\n",
        "        pq = PriorityQueue()\n",
        "        pq.put((self.total_h(better_h), self))\n",
        "        c = set()\n",
        "        count = 0\n",
        "        while not pq.empty():\n",
        "          a_key, a = pq.get()\n",
        "          count += 1\n",
        "          if a in c:\n",
        "            continue\n",
        "          if a.solved():\n",
        "            return a.path_to_here(), count\n",
        "          c.add(a)\n",
        "          for n in a.legal_moves():\n",
        "            pq.put((n.total_h(better_h), n))\n",
        "\n",
        "        return None, 0\n",
        "\n",
        "    def solved(self):\n",
        "        \"\"\"\"Return True iff all tiles in order and blank in bottom right.\"\"\"\n",
        "        should_be = 1\n",
        "        for i in range(PUZZLE_WIDTH):\n",
        "            for j in range(PUZZLE_WIDTH):\n",
        "                if self.tiles[i][j] != should_be:\n",
        "                    return False\n",
        "                should_be = (should_be + 1) % (PUZZLE_WIDTH ** 2)\n",
        "        return True\n",
        "\n",
        "    def heuristic(self, better_h):\n",
        "        \"\"\"Wrapper for the two heuristic functions.\n",
        "\n",
        "        Args:\n",
        "            better_h (boolean):  True if Manhattan heuristic, false if tile counting\n",
        "\n",
        "        Returns:\n",
        "            Value of the cost-to-go heuristic (int or float)\n",
        "        \"\"\"\n",
        "        if better_h:\n",
        "            return self.manhattan_heuristic()\n",
        "        return self.tile_mismatch_heuristic()\n",
        "\n",
        "    def tile_mismatch_heuristic(self):\n",
        "        \"\"\"Returns count of tiles out of place.\n",
        "        \n",
        "        Can't count the blank or it's inadmissible.\"\"\"\n",
        "        mismatch_count = 0\n",
        "        should_be = 1\n",
        "        for i in range(PUZZLE_WIDTH):\n",
        "            for j in range(PUZZLE_WIDTH):\n",
        "                if self.tiles[i][j] != BLANK and self.tiles[i][j] != should_be:\n",
        "                    mismatch_count += 1\n",
        "                should_be = (should_be + 1) % (PUZZLE_WIDTH ** 2)\n",
        "        return mismatch_count\n",
        "\n",
        "    def manhattan_heuristic(self):\n",
        "        \"\"\"Returns total Manhattan (city block) distance from destination over all tiles.\n",
        "\n",
        "        Again, shouldn't count blank; it gets where it's going for free.\"\"\"\n",
        "        total_manhattan = 0\n",
        "        for i in range(PUZZLE_WIDTH):\n",
        "            for j in range(PUZZLE_WIDTH):\n",
        "                val = self.tiles[i][j]\n",
        "                if val != 0:\n",
        "                    total_manhattan += abs((val - 1) // PUZZLE_WIDTH - i) + abs((val - 1) % PUZZLE_WIDTH - j)\n",
        "        return total_manhattan\n",
        "\n",
        "    def path_to_here(self):\n",
        "        \"\"\"Returns list of NumberPuzzles giving the move sequence to get here.\n",
        "        \n",
        "        Retraces steps to this node through the parent fields.\"\"\"\n",
        "        path = []\n",
        "        current = self\n",
        "        while not current is None:\n",
        "            path.insert(0, current)  # push\n",
        "            current = current.parent\n",
        "        return path\n",
        "\n",
        "def print_steps(path):\n",
        "    \"\"\" Print every puzzle in the path.\n",
        "\n",
        "    Args:\n",
        "        path (list of NumberPuzzle): list of puzzle states from start to finish\n",
        "    \"\"\"\n",
        "    if path is None:\n",
        "        print(\"No path found\")\n",
        "    else:\n",
        "        print(\"{} steps\".format(len(path)-1))\n",
        "        for state in path:\n",
        "            print(state)\n",
        "\n",
        "\n",
        "def solve_and_print(puzzle_string : str, better_h : bool) -> None:\n",
        "  \"\"\" \"Main\" - prints series of moves necessary to solve puzzle.\n",
        "\n",
        "  Args:\n",
        "    puzzle_string (string):  The puzzle to solve.\n",
        "    better_h (boolean):  True if Manhattan distance heuristic, false if tile count\n",
        "  \"\"\"\n",
        "  my_puzzle = read_puzzle_string(puzzle_string)\n",
        "  solution_steps, explored = my_puzzle.solve(better_h)\n",
        "  print(\"{} nodes explored\".format(explored))\n",
        "  print_steps(solution_steps)"
      ],
      "execution_count": 34,
      "outputs": []
    },
    {
      "cell_type": "markdown",
      "metadata": {
        "id": "Kd84CkYIrJBA"
      },
      "source": [
        "**2)  In solve(), implement A***, using a heuristic of “number of tiles in the wrong place” as the optimistic estimate of moves to go. (Treat the blank the way you decided was better in question 1.) You will need to make use of two important data structures:\n",
        "\n",
        "• The queue of puzzle states to explore should be a PriorityQueue, already imported for you at the top. The __lt__() function for NumberPuzzle objects has already been overridden so that it compares the key field to decide what goes first, but that field is currently never initialized. (You'll want it to store the cost-to-go plus heuristic value.)\n",
        "\n",
        "• Use a set() to efficiently implement a \"closed list\" of states that have already been explored. (Do not literally use a list, since scanning a list for an item is not efficient.) Sets are hash tables, and the hashing behavior has already been implemented to work in an acceptable way.\n",
        "\n",
        "solve() should return a list of NumberPuzzles that show the states from the beginning to the end, as well as an integer count of the number of nodes explored (that is, pulled from the front of the priority queue).  The latter is to help you debug and help us grade, although there is some \"wiggle room\" for reasonable differences in implementation.\n",
        "\n",
        "Note that you may be penalized if you unnecessarily change the provided code. In particular, you must generate neighbors using the provided legal_moves() function, so that your output should match our own if the heuristics are implemented correctly."
      ]
    },
    {
      "cell_type": "markdown",
      "metadata": {
        "id": "0xnu6d3jrAqF"
      },
      "source": [
        "When you have an implementation, try your solution on the provided zero_moves, one_move, and six_moves puzzles using solve_and_print(), and check that they are solved in the required number of moves."
      ]
    },
    {
      "cell_type": "code",
      "metadata": {
        "id": "A4XBKObXohi6"
      },
      "source": [
        "zero_moves = \"\"\"1 2 3 4\n",
        "5 6 7 8\n",
        "9 10 11 12\n",
        "13 14 15 -\"\"\"\n",
        "\n",
        "one_move = \"\"\"1 2 3 4\n",
        "5 6 7 8\n",
        "9 10 11 12\n",
        "13 14 - 15\"\"\"\n",
        "\n",
        "six_moves = \"\"\"1 2 3 4\n",
        "5 10 6 8\n",
        "- 9 7 12\n",
        "13 14 11 15\"\"\"\n",
        "\n",
        "sixteen_moves = \"\"\"10 2 4 8\n",
        "1 5 3 -\n",
        "9 7 6 12\n",
        "13 14 11 15\"\"\"\n",
        "\n",
        "forty_moves = \"\"\"4 3 - 11\n",
        "2 1 6 8\n",
        "13 9 7 15\n",
        "10 14 12 5\"\"\"\n",
        "\n"
      ],
      "execution_count": 35,
      "outputs": []
    },
    {
      "cell_type": "code",
      "metadata": {
        "id": "gJ2Tgs24oqz1",
        "colab": {
          "base_uri": "https://localhost:8080/"
        },
        "outputId": "64a8e538-a2cc-41a1-a5ce-6a56d287bc4d"
      },
      "source": [
        "solve_and_print(zero_moves, False)"
      ],
      "execution_count": 36,
      "outputs": [
        {
          "output_type": "stream",
          "text": [
            "1 nodes explored\n",
            "0 steps\n",
            "1 2 3 4\n",
            "5 6 7 8\n",
            "9 10 11 12\n",
            "13 14 15 -\n",
            "\n"
          ],
          "name": "stdout"
        }
      ]
    },
    {
      "cell_type": "code",
      "metadata": {
        "id": "zYdtDENIvGhV",
        "colab": {
          "base_uri": "https://localhost:8080/"
        },
        "outputId": "93fe9653-ab44-4755-9975-d88dcdd3c6b5"
      },
      "source": [
        "solve_and_print(one_move, False)"
      ],
      "execution_count": 37,
      "outputs": [
        {
          "output_type": "stream",
          "text": [
            "2 nodes explored\n",
            "1 steps\n",
            "1 2 3 4\n",
            "5 6 7 8\n",
            "9 10 11 12\n",
            "13 14 - 15\n",
            "\n",
            "1 2 3 4\n",
            "5 6 7 8\n",
            "9 10 11 12\n",
            "13 14 15 -\n",
            "\n"
          ],
          "name": "stdout"
        }
      ]
    },
    {
      "cell_type": "code",
      "metadata": {
        "id": "ELZ1rnw7vMky",
        "colab": {
          "base_uri": "https://localhost:8080/"
        },
        "outputId": "b1a2619c-3313-45a4-bf5b-7295d513ade6"
      },
      "source": [
        "solve_and_print(six_moves, False)"
      ],
      "execution_count": 38,
      "outputs": [
        {
          "output_type": "stream",
          "text": [
            "7 nodes explored\n",
            "6 steps\n",
            "1 2 3 4\n",
            "5 10 6 8\n",
            "- 9 7 12\n",
            "13 14 11 15\n",
            "\n",
            "1 2 3 4\n",
            "5 10 6 8\n",
            "9 - 7 12\n",
            "13 14 11 15\n",
            "\n",
            "1 2 3 4\n",
            "5 - 6 8\n",
            "9 10 7 12\n",
            "13 14 11 15\n",
            "\n",
            "1 2 3 4\n",
            "5 6 - 8\n",
            "9 10 7 12\n",
            "13 14 11 15\n",
            "\n",
            "1 2 3 4\n",
            "5 6 7 8\n",
            "9 10 - 12\n",
            "13 14 11 15\n",
            "\n",
            "1 2 3 4\n",
            "5 6 7 8\n",
            "9 10 11 12\n",
            "13 14 - 15\n",
            "\n",
            "1 2 3 4\n",
            "5 6 7 8\n",
            "9 10 11 12\n",
            "13 14 15 -\n",
            "\n"
          ],
          "name": "stdout"
        }
      ]
    },
    {
      "cell_type": "markdown",
      "metadata": {
        "id": "oUItsnVLvcdT"
      },
      "source": [
        "**3) Now time your implementation on sixteen_moves**, using the handy Google Colab syntax demonstrated here."
      ]
    },
    {
      "cell_type": "code",
      "metadata": {
        "id": "UpkPlcv_va_T",
        "colab": {
          "base_uri": "https://localhost:8080/"
        },
        "outputId": "d18bce4d-cc5c-4bf3-e17b-2e3dfaac41ed"
      },
      "source": [
        "%time solve_and_print(sixteen_moves, False)"
      ],
      "execution_count": 39,
      "outputs": [
        {
          "output_type": "stream",
          "text": [
            "398 nodes explored\n",
            "16 steps\n",
            "10 2 4 8\n",
            "1 5 3 -\n",
            "9 7 6 12\n",
            "13 14 11 15\n",
            "\n",
            "10 2 4 -\n",
            "1 5 3 8\n",
            "9 7 6 12\n",
            "13 14 11 15\n",
            "\n",
            "10 2 - 4\n",
            "1 5 3 8\n",
            "9 7 6 12\n",
            "13 14 11 15\n",
            "\n",
            "10 - 2 4\n",
            "1 5 3 8\n",
            "9 7 6 12\n",
            "13 14 11 15\n",
            "\n",
            "- 10 2 4\n",
            "1 5 3 8\n",
            "9 7 6 12\n",
            "13 14 11 15\n",
            "\n",
            "1 10 2 4\n",
            "- 5 3 8\n",
            "9 7 6 12\n",
            "13 14 11 15\n",
            "\n",
            "1 10 2 4\n",
            "5 - 3 8\n",
            "9 7 6 12\n",
            "13 14 11 15\n",
            "\n",
            "1 - 2 4\n",
            "5 10 3 8\n",
            "9 7 6 12\n",
            "13 14 11 15\n",
            "\n",
            "1 2 - 4\n",
            "5 10 3 8\n",
            "9 7 6 12\n",
            "13 14 11 15\n",
            "\n",
            "1 2 3 4\n",
            "5 10 - 8\n",
            "9 7 6 12\n",
            "13 14 11 15\n",
            "\n",
            "1 2 3 4\n",
            "5 10 6 8\n",
            "9 7 - 12\n",
            "13 14 11 15\n",
            "\n",
            "1 2 3 4\n",
            "5 10 6 8\n",
            "9 - 7 12\n",
            "13 14 11 15\n",
            "\n",
            "1 2 3 4\n",
            "5 - 6 8\n",
            "9 10 7 12\n",
            "13 14 11 15\n",
            "\n",
            "1 2 3 4\n",
            "5 6 - 8\n",
            "9 10 7 12\n",
            "13 14 11 15\n",
            "\n",
            "1 2 3 4\n",
            "5 6 7 8\n",
            "9 10 - 12\n",
            "13 14 11 15\n",
            "\n",
            "1 2 3 4\n",
            "5 6 7 8\n",
            "9 10 11 12\n",
            "13 14 - 15\n",
            "\n",
            "1 2 3 4\n",
            "5 6 7 8\n",
            "9 10 11 12\n",
            "13 14 15 -\n",
            "\n",
            "CPU times: user 62.2 ms, sys: 1.02 ms, total: 63.2 ms\n",
            "Wall time: 68.6 ms\n"
          ],
          "name": "stdout"
        }
      ]
    },
    {
      "cell_type": "markdown",
      "metadata": {
        "id": "4PcHJokJxG1o"
      },
      "source": [
        "**4) The Manhattan distance of a tile from its final location is the sum of the difference in rows and the difference in columns. If the blank does not count as a tile, does the sum of Manhattan distances from their final locations over all tiles act as an admissible heuristic? What if the blank does count as a tile? In each case, if the heuristic is admissible, explain how you know, and if it is not, give an example that shows the heuristic is inadmissible.**"
      ]
    },
    {
      "cell_type": "markdown",
      "metadata": {
        "id": "eqXdQR3oxNo3"
      },
      "source": [
        "\n",
        "1. The heuristic is admissible if the blank tile is not counted, because the tiles move vertically or horizontally, so the minimum number of moves required for the tile to get to the position is its Manhattan distance. It could also be greater, but that makes the heuristic more optimistic all the while being more accurate than displaced tiles.\n",
        "2. The heuristic is inadmissible if we count the blank tile, because the blank tile \"adds up\" the Manhattan distance lost by the tile while in motion, or vice versa. As an example, if 13,14,15 were to be shifted to right, The heuristic would output a 6, which is even worse compared to the inadmissible version of the displacement heuristic (4). "
      ]
    },
    {
      "cell_type": "markdown",
      "metadata": {
        "id": "6TOyRX9OxUz2"
      },
      "source": [
        "**5)** Now **implement Manhattan distance as a new heuristic** in the same block of code above.  Keep your old heuristic, but have the code use the old heuristic if the better_h argument is False, and use the new heuristic if better_h is True.  When you are done, time the new code."
      ]
    },
    {
      "cell_type": "code",
      "metadata": {
        "id": "eYforT9Ix3CV",
        "colab": {
          "base_uri": "https://localhost:8080/"
        },
        "outputId": "21f55d2b-b6e9-4a68-ecb2-06509fc532aa"
      },
      "source": [
        "%time solve_and_print(sixteen_moves, True)"
      ],
      "execution_count": 40,
      "outputs": [
        {
          "output_type": "stream",
          "text": [
            "68 nodes explored\n",
            "16 steps\n",
            "10 2 4 8\n",
            "1 5 3 -\n",
            "9 7 6 12\n",
            "13 14 11 15\n",
            "\n",
            "10 2 4 -\n",
            "1 5 3 8\n",
            "9 7 6 12\n",
            "13 14 11 15\n",
            "\n",
            "10 2 - 4\n",
            "1 5 3 8\n",
            "9 7 6 12\n",
            "13 14 11 15\n",
            "\n",
            "10 - 2 4\n",
            "1 5 3 8\n",
            "9 7 6 12\n",
            "13 14 11 15\n",
            "\n",
            "- 10 2 4\n",
            "1 5 3 8\n",
            "9 7 6 12\n",
            "13 14 11 15\n",
            "\n",
            "1 10 2 4\n",
            "- 5 3 8\n",
            "9 7 6 12\n",
            "13 14 11 15\n",
            "\n",
            "1 10 2 4\n",
            "5 - 3 8\n",
            "9 7 6 12\n",
            "13 14 11 15\n",
            "\n",
            "1 - 2 4\n",
            "5 10 3 8\n",
            "9 7 6 12\n",
            "13 14 11 15\n",
            "\n",
            "1 2 - 4\n",
            "5 10 3 8\n",
            "9 7 6 12\n",
            "13 14 11 15\n",
            "\n",
            "1 2 3 4\n",
            "5 10 - 8\n",
            "9 7 6 12\n",
            "13 14 11 15\n",
            "\n",
            "1 2 3 4\n",
            "5 10 6 8\n",
            "9 7 - 12\n",
            "13 14 11 15\n",
            "\n",
            "1 2 3 4\n",
            "5 10 6 8\n",
            "9 - 7 12\n",
            "13 14 11 15\n",
            "\n",
            "1 2 3 4\n",
            "5 - 6 8\n",
            "9 10 7 12\n",
            "13 14 11 15\n",
            "\n",
            "1 2 3 4\n",
            "5 6 - 8\n",
            "9 10 7 12\n",
            "13 14 11 15\n",
            "\n",
            "1 2 3 4\n",
            "5 6 7 8\n",
            "9 10 - 12\n",
            "13 14 11 15\n",
            "\n",
            "1 2 3 4\n",
            "5 6 7 8\n",
            "9 10 11 12\n",
            "13 14 - 15\n",
            "\n",
            "1 2 3 4\n",
            "5 6 7 8\n",
            "9 10 11 12\n",
            "13 14 15 -\n",
            "\n",
            "CPU times: user 22.5 ms, sys: 2.01 ms, total: 24.5 ms\n",
            "Wall time: 27.4 ms\n"
          ],
          "name": "stdout"
        }
      ]
    },
    {
      "cell_type": "markdown",
      "metadata": {
        "id": "F5i7QBpKyPtB"
      },
      "source": [
        "**6)** Your code should now also finish within two minutes for forty_moves.  **Run it here** to demonstrate."
      ]
    },
    {
      "cell_type": "code",
      "metadata": {
        "id": "LsA6Y3XoyfGu",
        "colab": {
          "base_uri": "https://localhost:8080/"
        },
        "outputId": "608dd5eb-7681-49c3-f448-9e91c146f88c"
      },
      "source": [
        "%time solve_and_print(forty_moves, True)"
      ],
      "execution_count": 41,
      "outputs": [
        {
          "output_type": "stream",
          "text": [
            "402443 nodes explored\n",
            "40 steps\n",
            "4 3 - 11\n",
            "2 1 6 8\n",
            "13 9 7 15\n",
            "10 14 12 5\n",
            "\n",
            "4 - 3 11\n",
            "2 1 6 8\n",
            "13 9 7 15\n",
            "10 14 12 5\n",
            "\n",
            "- 4 3 11\n",
            "2 1 6 8\n",
            "13 9 7 15\n",
            "10 14 12 5\n",
            "\n",
            "2 4 3 11\n",
            "- 1 6 8\n",
            "13 9 7 15\n",
            "10 14 12 5\n",
            "\n",
            "2 4 3 11\n",
            "1 - 6 8\n",
            "13 9 7 15\n",
            "10 14 12 5\n",
            "\n",
            "2 4 3 11\n",
            "1 9 6 8\n",
            "13 - 7 15\n",
            "10 14 12 5\n",
            "\n",
            "2 4 3 11\n",
            "1 9 6 8\n",
            "13 7 - 15\n",
            "10 14 12 5\n",
            "\n",
            "2 4 3 11\n",
            "1 9 - 8\n",
            "13 7 6 15\n",
            "10 14 12 5\n",
            "\n",
            "2 4 - 11\n",
            "1 9 3 8\n",
            "13 7 6 15\n",
            "10 14 12 5\n",
            "\n",
            "2 - 4 11\n",
            "1 9 3 8\n",
            "13 7 6 15\n",
            "10 14 12 5\n",
            "\n",
            "- 2 4 11\n",
            "1 9 3 8\n",
            "13 7 6 15\n",
            "10 14 12 5\n",
            "\n",
            "1 2 4 11\n",
            "- 9 3 8\n",
            "13 7 6 15\n",
            "10 14 12 5\n",
            "\n",
            "1 2 4 11\n",
            "9 - 3 8\n",
            "13 7 6 15\n",
            "10 14 12 5\n",
            "\n",
            "1 2 4 11\n",
            "9 7 3 8\n",
            "13 - 6 15\n",
            "10 14 12 5\n",
            "\n",
            "1 2 4 11\n",
            "9 7 3 8\n",
            "13 6 - 15\n",
            "10 14 12 5\n",
            "\n",
            "1 2 4 11\n",
            "9 7 3 8\n",
            "13 6 12 15\n",
            "10 14 - 5\n",
            "\n",
            "1 2 4 11\n",
            "9 7 3 8\n",
            "13 6 12 15\n",
            "10 14 5 -\n",
            "\n",
            "1 2 4 11\n",
            "9 7 3 8\n",
            "13 6 12 -\n",
            "10 14 5 15\n",
            "\n",
            "1 2 4 11\n",
            "9 7 3 -\n",
            "13 6 12 8\n",
            "10 14 5 15\n",
            "\n",
            "1 2 4 -\n",
            "9 7 3 11\n",
            "13 6 12 8\n",
            "10 14 5 15\n",
            "\n",
            "1 2 - 4\n",
            "9 7 3 11\n",
            "13 6 12 8\n",
            "10 14 5 15\n",
            "\n",
            "1 2 3 4\n",
            "9 7 - 11\n",
            "13 6 12 8\n",
            "10 14 5 15\n",
            "\n",
            "1 2 3 4\n",
            "9 7 11 -\n",
            "13 6 12 8\n",
            "10 14 5 15\n",
            "\n",
            "1 2 3 4\n",
            "9 7 11 8\n",
            "13 6 12 -\n",
            "10 14 5 15\n",
            "\n",
            "1 2 3 4\n",
            "9 7 11 8\n",
            "13 6 - 12\n",
            "10 14 5 15\n",
            "\n",
            "1 2 3 4\n",
            "9 7 11 8\n",
            "13 6 5 12\n",
            "10 14 - 15\n",
            "\n",
            "1 2 3 4\n",
            "9 7 11 8\n",
            "13 6 5 12\n",
            "10 - 14 15\n",
            "\n",
            "1 2 3 4\n",
            "9 7 11 8\n",
            "13 - 5 12\n",
            "10 6 14 15\n",
            "\n",
            "1 2 3 4\n",
            "9 7 11 8\n",
            "13 5 - 12\n",
            "10 6 14 15\n",
            "\n",
            "1 2 3 4\n",
            "9 7 - 8\n",
            "13 5 11 12\n",
            "10 6 14 15\n",
            "\n",
            "1 2 3 4\n",
            "9 - 7 8\n",
            "13 5 11 12\n",
            "10 6 14 15\n",
            "\n",
            "1 2 3 4\n",
            "9 5 7 8\n",
            "13 - 11 12\n",
            "10 6 14 15\n",
            "\n",
            "1 2 3 4\n",
            "9 5 7 8\n",
            "13 6 11 12\n",
            "10 - 14 15\n",
            "\n",
            "1 2 3 4\n",
            "9 5 7 8\n",
            "13 6 11 12\n",
            "- 10 14 15\n",
            "\n",
            "1 2 3 4\n",
            "9 5 7 8\n",
            "- 6 11 12\n",
            "13 10 14 15\n",
            "\n",
            "1 2 3 4\n",
            "- 5 7 8\n",
            "9 6 11 12\n",
            "13 10 14 15\n",
            "\n",
            "1 2 3 4\n",
            "5 - 7 8\n",
            "9 6 11 12\n",
            "13 10 14 15\n",
            "\n",
            "1 2 3 4\n",
            "5 6 7 8\n",
            "9 - 11 12\n",
            "13 10 14 15\n",
            "\n",
            "1 2 3 4\n",
            "5 6 7 8\n",
            "9 10 11 12\n",
            "13 - 14 15\n",
            "\n",
            "1 2 3 4\n",
            "5 6 7 8\n",
            "9 10 11 12\n",
            "13 14 - 15\n",
            "\n",
            "1 2 3 4\n",
            "5 6 7 8\n",
            "9 10 11 12\n",
            "13 14 15 -\n",
            "\n",
            "CPU times: user 1min 27s, sys: 673 ms, total: 1min 27s\n",
            "Wall time: 1min 27s\n"
          ],
          "name": "stdout"
        }
      ]
    },
    {
      "cell_type": "markdown",
      "metadata": {
        "id": "GsA_O7Iny7TC"
      },
      "source": [
        "**7) Suppose you decide to try out Euclidean distance, $\\sqrt{r^2 + c^2}$ where r and c are the row and column differences, as a heuristic.  It runs faster than tiles displaced, but slower than Manhattan distance.  Why?  (Assume it's not the slowness of square root operations, or anything like that.)**"
      ]
    },
    {
      "cell_type": "markdown",
      "metadata": {
        "id": "LK3KnxEwzP68"
      },
      "source": [
        "\n",
        "The Heuristic mentioned above, calculates the physical distance between the current tile location to its actual position. While it's admissible, it can be slower because it is not as accurate as Manhattan distance. This is because the player can move the tiles either horizontally or vertically but not diagonally, but the hueristic actually calculates the diagonal distance. if a tile is 1 up and 1 left of its actual place, the manhattan distance is 2 which is more accurate to reality than 1.414. "
      ]
    },
    {
      "cell_type": "markdown",
      "metadata": {
        "id": "sQeAdTVfzVhO"
      },
      "source": [
        "**8) Suppose a bug caused you to calculate the Manhattan distance incorrectly, so that it only returned the number of rows away for each tile, ignoring columns.  Is this heuristic still going to return an optimal solution every time?  Why or why not?**"
      ]
    },
    {
      "cell_type": "markdown",
      "metadata": {
        "id": "GzdIch4l0Obt"
      },
      "source": [
        "\n",
        "It will return an optimal solution every time, for it is an admissible heuristic. (because the value always is going to be lesser or equal to the manhattan distance) However, it would be inefficient, and would take a longer time to process as it is not as accurate as the manhattan distance."
      ]
    },
    {
      "cell_type": "markdown",
      "metadata": {
        "id": "Z5pgJIhsSqNA"
      },
      "source": [
        "**9) In some fifteen-puzzle implementations, you can slide not just one tile, but all tiles to one side of the blank into the blank space.  (For example, if the bottom row were - 13 14 15, one move could cause 13 14 15 -.) Are the tiles displaced and Manhattan distance heuristics admissible in that case?  If so, explain how you know.  If not, provide a heuristic that is admissible and can return at least 4 different values, and explain how you know it is admissible.  (Heuristics should not return values less than 0.  Hint:  Consider simple arithmetic to modify the existing heuristics.)**"
      ]
    },
    {
      "cell_type": "markdown",
      "metadata": {
        "id": "3mPKoQXITNI2"
      },
      "source": [
        "The tiles-displaced and the manhattan heuristic are rendered useless by the new implementation, as 3 tiles at maximum can be put into their respective places in 1 move < 3. The best alteration to modify the existing heuristic is to take either the manhattan distance or the tiles displaced and divide it by 3 (and floor it).\n",
        "(i.e. NumberPuzzle().heuristic(bool) // 3). Given the total 15, the answers would range from 0 to 5"
      ]
    },
    {
      "cell_type": "markdown",
      "metadata": {
        "id": "HVqDc-Pm0bz7"
      },
      "source": [
        "A* is one of the most successful algorithms in the history of AI, a champ at what it does (as long as you can come up with a good heuristic), and is probably the most important AI technology for a modern game AI programmer to understand (because of all the pathfinding that goes on). It's a classic technique for a reason!"
      ]
    },
    {
      "cell_type": "markdown",
      "metadata": {
        "id": "D5XIUfl50hNY"
      },
      "source": [
        "**Be sure you've done all other bold text, then \"File->Download .ipynb\" and upload your file to Canvas, along with a PDF version (File->Print->Destination->Save as PDF).**"
      ]
    }
  ]
}